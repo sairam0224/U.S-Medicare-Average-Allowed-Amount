{
 "cells": [
  {
   "cell_type": "code",
   "execution_count": 1,
   "id": "da3f50aa",
   "metadata": {},
   "outputs": [],
   "source": [
    "#Importing the necessary tools for Data Analysis\n",
    "import pandas as pd\n",
    "import numpy as np\n",
    "import matplotlib.pyplot as plt\n",
    "%matplotlib inline\n",
    "import warnings"
   ]
  },
  {
   "cell_type": "code",
   "execution_count": 2,
   "id": "b94b5ba6",
   "metadata": {},
   "outputs": [],
   "source": [
    "df = pd.read_csv(\"Downloads/Medicare.csv\",low_memory=False)"
   ]
  },
  {
   "cell_type": "code",
   "execution_count": 3,
   "id": "c24c13e5",
   "metadata": {},
   "outputs": [
    {
     "data": {
      "text/html": [
       "<div>\n",
       "<style scoped>\n",
       "    .dataframe tbody tr th:only-of-type {\n",
       "        vertical-align: middle;\n",
       "    }\n",
       "\n",
       "    .dataframe tbody tr th {\n",
       "        vertical-align: top;\n",
       "    }\n",
       "\n",
       "    .dataframe thead th {\n",
       "        text-align: right;\n",
       "    }\n",
       "</style>\n",
       "<table border=\"1\" class=\"dataframe\">\n",
       "  <thead>\n",
       "    <tr style=\"text-align: right;\">\n",
       "      <th></th>\n",
       "      <th>Rndrng_Prvdr_Geo_Lvl</th>\n",
       "      <th>Rndrng_Prvdr_Geo_Cd</th>\n",
       "      <th>Rndrng_Prvdr_Geo_Desc</th>\n",
       "      <th>HCPCS_Cd</th>\n",
       "      <th>HCPCS_Desc</th>\n",
       "      <th>HCPCS_Drug_Ind</th>\n",
       "      <th>Place_Of_Srvc</th>\n",
       "      <th>Tot_Rndrng_Prvdrs</th>\n",
       "      <th>Tot_Benes</th>\n",
       "      <th>Tot_Srvcs</th>\n",
       "      <th>Tot_Bene_Day_Srvcs</th>\n",
       "      <th>Avg_Sbmtd_Chrg</th>\n",
       "      <th>Avg_Mdcr_Alowd_Amt</th>\n",
       "      <th>Avg_Mdcr_Pymt_Amt</th>\n",
       "      <th>Avg_Mdcr_Stdzd_Amt</th>\n",
       "    </tr>\n",
       "  </thead>\n",
       "  <tbody>\n",
       "    <tr>\n",
       "      <th>0</th>\n",
       "      <td>National</td>\n",
       "      <td>NaN</td>\n",
       "      <td>National</td>\n",
       "      <td>0001A</td>\n",
       "      <td>Adm sarscov2 30mcg/0.3ml 1st</td>\n",
       "      <td>N</td>\n",
       "      <td>F</td>\n",
       "      <td>10</td>\n",
       "      <td>86</td>\n",
       "      <td>86</td>\n",
       "      <td>86</td>\n",
       "      <td>$32.99</td>\n",
       "      <td>$17.50</td>\n",
       "      <td>$17.50</td>\n",
       "      <td>$16.82</td>\n",
       "    </tr>\n",
       "    <tr>\n",
       "      <th>1</th>\n",
       "      <td>National</td>\n",
       "      <td>NaN</td>\n",
       "      <td>National</td>\n",
       "      <td>0001A</td>\n",
       "      <td>Adm sarscov2 30mcg/0.3ml 1st</td>\n",
       "      <td>N</td>\n",
       "      <td>O</td>\n",
       "      <td>1,809</td>\n",
       "      <td>159,365</td>\n",
       "      <td>159,385</td>\n",
       "      <td>159,385</td>\n",
       "      <td>$31.26</td>\n",
       "      <td>$16.79</td>\n",
       "      <td>$16.79</td>\n",
       "      <td>$16.62</td>\n",
       "    </tr>\n",
       "    <tr>\n",
       "      <th>2</th>\n",
       "      <td>National</td>\n",
       "      <td>NaN</td>\n",
       "      <td>National</td>\n",
       "      <td>0002A</td>\n",
       "      <td>Adm sarscov2 30mcg/0.3ml 2nd</td>\n",
       "      <td>N</td>\n",
       "      <td>O</td>\n",
       "      <td>53</td>\n",
       "      <td>279</td>\n",
       "      <td>279</td>\n",
       "      <td>279</td>\n",
       "      <td>$66.48</td>\n",
       "      <td>$28.18</td>\n",
       "      <td>$28.18</td>\n",
       "      <td>$27.93</td>\n",
       "    </tr>\n",
       "    <tr>\n",
       "      <th>3</th>\n",
       "      <td>National</td>\n",
       "      <td>NaN</td>\n",
       "      <td>National</td>\n",
       "      <td>0003M</td>\n",
       "      <td>Liver dis 10 assays w/nash</td>\n",
       "      <td>N</td>\n",
       "      <td>O</td>\n",
       "      <td>14</td>\n",
       "      <td>88</td>\n",
       "      <td>88</td>\n",
       "      <td>88</td>\n",
       "      <td>$572.58</td>\n",
       "      <td>$453.14</td>\n",
       "      <td>$451.14</td>\n",
       "      <td>$485.02</td>\n",
       "    </tr>\n",
       "    <tr>\n",
       "      <th>4</th>\n",
       "      <td>National</td>\n",
       "      <td>NaN</td>\n",
       "      <td>National</td>\n",
       "      <td>0005U</td>\n",
       "      <td>Test for detecting genes associated with prost...</td>\n",
       "      <td>N</td>\n",
       "      <td>O</td>\n",
       "      <td>1</td>\n",
       "      <td>4,886</td>\n",
       "      <td>4,939</td>\n",
       "      <td>4,939</td>\n",
       "      <td>$795.00</td>\n",
       "      <td>$755.01</td>\n",
       "      <td>$755.01</td>\n",
       "      <td>$745.00</td>\n",
       "    </tr>\n",
       "  </tbody>\n",
       "</table>\n",
       "</div>"
      ],
      "text/plain": [
       "  Rndrng_Prvdr_Geo_Lvl Rndrng_Prvdr_Geo_Cd Rndrng_Prvdr_Geo_Desc HCPCS_Cd  \\\n",
       "0             National                 NaN              National    0001A   \n",
       "1             National                 NaN              National    0001A   \n",
       "2             National                 NaN              National    0002A   \n",
       "3             National                 NaN              National    0003M   \n",
       "4             National                 NaN              National    0005U   \n",
       "\n",
       "                                          HCPCS_Desc HCPCS_Drug_Ind  \\\n",
       "0                       Adm sarscov2 30mcg/0.3ml 1st              N   \n",
       "1                       Adm sarscov2 30mcg/0.3ml 1st              N   \n",
       "2                       Adm sarscov2 30mcg/0.3ml 2nd              N   \n",
       "3                         Liver dis 10 assays w/nash              N   \n",
       "4  Test for detecting genes associated with prost...              N   \n",
       "\n",
       "  Place_Of_Srvc Tot_Rndrng_Prvdrs Tot_Benes Tot_Srvcs Tot_Bene_Day_Srvcs  \\\n",
       "0             F                10        86        86                 86   \n",
       "1             O             1,809   159,365   159,385            159,385   \n",
       "2             O                53       279       279                279   \n",
       "3             O                14        88        88                 88   \n",
       "4             O                 1     4,886     4,939              4,939   \n",
       "\n",
       "  Avg_Sbmtd_Chrg Avg_Mdcr_Alowd_Amt Avg_Mdcr_Pymt_Amt Avg_Mdcr_Stdzd_Amt  \n",
       "0         $32.99             $17.50            $17.50             $16.82  \n",
       "1         $31.26             $16.79            $16.79             $16.62  \n",
       "2         $66.48             $28.18            $28.18             $27.93  \n",
       "3        $572.58            $453.14           $451.14            $485.02  \n",
       "4        $795.00            $755.01           $755.01            $745.00  "
      ]
     },
     "execution_count": 3,
     "metadata": {},
     "output_type": "execute_result"
    }
   ],
   "source": [
    "#We can observe the dataset by checking a few of the rows using head() method\n",
    "#which is returns the first five samples from the dataset\n",
    "df.head()"
   ]
  },
  {
   "cell_type": "code",
   "execution_count": 4,
   "id": "091cf925",
   "metadata": {},
   "outputs": [
    {
     "name": "stdout",
     "output_type": "stream",
     "text": [
      "<class 'pandas.core.frame.DataFrame'>\n",
      "RangeIndex: 268149 entries, 0 to 268148\n",
      "Data columns (total 15 columns):\n",
      " #   Column                 Non-Null Count   Dtype \n",
      "---  ------                 --------------   ----- \n",
      " 0   Rndrng_Prvdr_Geo_Lvl   268149 non-null  object\n",
      " 1   Rndrng_Prvdr_Geo_Cd    255046 non-null  object\n",
      " 2   Rndrng_Prvdr_Geo_Desc  268134 non-null  object\n",
      " 3   HCPCS_Cd               268149 non-null  object\n",
      " 4   HCPCS_Desc             268149 non-null  object\n",
      " 5   HCPCS_Drug_Ind         268149 non-null  object\n",
      " 6   Place_Of_Srvc          268149 non-null  object\n",
      " 7   Tot_Rndrng_Prvdrs      268149 non-null  object\n",
      " 8   Tot_Benes              268149 non-null  object\n",
      " 9   Tot_Srvcs              268149 non-null  object\n",
      " 10  Tot_Bene_Day_Srvcs     268149 non-null  object\n",
      " 11  Avg_Sbmtd_Chrg         268149 non-null  object\n",
      " 12  Avg_Mdcr_Alowd_Amt     268149 non-null  object\n",
      " 13  Avg_Mdcr_Pymt_Amt      268149 non-null  object\n",
      " 14  Avg_Mdcr_Stdzd_Amt     268149 non-null  object\n",
      "dtypes: object(15)\n",
      "memory usage: 30.7+ MB\n"
     ]
    }
   ],
   "source": [
    "#info() method shows some of the characteristics of the data such as column name, No. of null-values in columns\n",
    "#Dtype of the data, and memory Usage.\n",
    "df.info()\n",
    "#Rndrng_prvdr_Geo_Cd feature has null values\n",
    "#Rndrng_Prvdr_Geo_Desc "
   ]
  },
  {
   "cell_type": "code",
   "execution_count": 5,
   "id": "edabd966",
   "metadata": {},
   "outputs": [
    {
     "data": {
      "text/plain": [
       "Rndrng_Prvdr_Geo_Cd      13103\n",
       "Rndrng_Prvdr_Geo_Desc       15\n",
       "Rndrng_Prvdr_Geo_Lvl         0\n",
       "HCPCS_Cd                     0\n",
       "HCPCS_Desc                   0\n",
       "HCPCS_Drug_Ind               0\n",
       "Place_Of_Srvc                0\n",
       "Tot_Rndrng_Prvdrs            0\n",
       "Tot_Benes                    0\n",
       "Tot_Srvcs                    0\n",
       "Tot_Bene_Day_Srvcs           0\n",
       "Avg_Sbmtd_Chrg               0\n",
       "Avg_Mdcr_Alowd_Amt           0\n",
       "Avg_Mdcr_Pymt_Amt            0\n",
       "Avg_Mdcr_Stdzd_Amt           0\n",
       "dtype: int64"
      ]
     },
     "execution_count": 5,
     "metadata": {},
     "output_type": "execute_result"
    }
   ],
   "source": [
    "df.isnull().sum().sort_values(ascending=False)"
   ]
  },
  {
   "cell_type": "code",
   "execution_count": 6,
   "id": "41ce1784",
   "metadata": {},
   "outputs": [
    {
     "data": {
      "text/html": [
       "<div>\n",
       "<style scoped>\n",
       "    .dataframe tbody tr th:only-of-type {\n",
       "        vertical-align: middle;\n",
       "    }\n",
       "\n",
       "    .dataframe tbody tr th {\n",
       "        vertical-align: top;\n",
       "    }\n",
       "\n",
       "    .dataframe thead th {\n",
       "        text-align: right;\n",
       "    }\n",
       "</style>\n",
       "<table border=\"1\" class=\"dataframe\">\n",
       "  <thead>\n",
       "    <tr style=\"text-align: right;\">\n",
       "      <th></th>\n",
       "      <th>Rndrng_Prvdr_Geo_Lvl</th>\n",
       "      <th>Rndrng_Prvdr_Geo_Cd</th>\n",
       "      <th>Rndrng_Prvdr_Geo_Desc</th>\n",
       "      <th>HCPCS_Cd</th>\n",
       "      <th>HCPCS_Desc</th>\n",
       "      <th>HCPCS_Drug_Ind</th>\n",
       "      <th>Place_Of_Srvc</th>\n",
       "      <th>Tot_Rndrng_Prvdrs</th>\n",
       "      <th>Tot_Benes</th>\n",
       "      <th>Tot_Srvcs</th>\n",
       "      <th>Tot_Bene_Day_Srvcs</th>\n",
       "      <th>Avg_Sbmtd_Chrg</th>\n",
       "      <th>Avg_Mdcr_Alowd_Amt</th>\n",
       "      <th>Avg_Mdcr_Pymt_Amt</th>\n",
       "      <th>Avg_Mdcr_Stdzd_Amt</th>\n",
       "    </tr>\n",
       "  </thead>\n",
       "  <tbody>\n",
       "    <tr>\n",
       "      <th>0</th>\n",
       "      <td>National</td>\n",
       "      <td>06</td>\n",
       "      <td>National</td>\n",
       "      <td>0001A</td>\n",
       "      <td>Adm sarscov2 30mcg/0.3ml 1st</td>\n",
       "      <td>N</td>\n",
       "      <td>F</td>\n",
       "      <td>10</td>\n",
       "      <td>86</td>\n",
       "      <td>86</td>\n",
       "      <td>86</td>\n",
       "      <td>$32.99</td>\n",
       "      <td>$17.50</td>\n",
       "      <td>$17.50</td>\n",
       "      <td>$16.82</td>\n",
       "    </tr>\n",
       "    <tr>\n",
       "      <th>1</th>\n",
       "      <td>National</td>\n",
       "      <td>06</td>\n",
       "      <td>National</td>\n",
       "      <td>0001A</td>\n",
       "      <td>Adm sarscov2 30mcg/0.3ml 1st</td>\n",
       "      <td>N</td>\n",
       "      <td>O</td>\n",
       "      <td>1,809</td>\n",
       "      <td>159,365</td>\n",
       "      <td>159,385</td>\n",
       "      <td>159,385</td>\n",
       "      <td>$31.26</td>\n",
       "      <td>$16.79</td>\n",
       "      <td>$16.79</td>\n",
       "      <td>$16.62</td>\n",
       "    </tr>\n",
       "    <tr>\n",
       "      <th>2</th>\n",
       "      <td>National</td>\n",
       "      <td>06</td>\n",
       "      <td>National</td>\n",
       "      <td>0002A</td>\n",
       "      <td>Adm sarscov2 30mcg/0.3ml 2nd</td>\n",
       "      <td>N</td>\n",
       "      <td>O</td>\n",
       "      <td>53</td>\n",
       "      <td>279</td>\n",
       "      <td>279</td>\n",
       "      <td>279</td>\n",
       "      <td>$66.48</td>\n",
       "      <td>$28.18</td>\n",
       "      <td>$28.18</td>\n",
       "      <td>$27.93</td>\n",
       "    </tr>\n",
       "    <tr>\n",
       "      <th>3</th>\n",
       "      <td>National</td>\n",
       "      <td>06</td>\n",
       "      <td>National</td>\n",
       "      <td>0003M</td>\n",
       "      <td>Liver dis 10 assays w/nash</td>\n",
       "      <td>N</td>\n",
       "      <td>O</td>\n",
       "      <td>14</td>\n",
       "      <td>88</td>\n",
       "      <td>88</td>\n",
       "      <td>88</td>\n",
       "      <td>$572.58</td>\n",
       "      <td>$453.14</td>\n",
       "      <td>$451.14</td>\n",
       "      <td>$485.02</td>\n",
       "    </tr>\n",
       "    <tr>\n",
       "      <th>4</th>\n",
       "      <td>National</td>\n",
       "      <td>06</td>\n",
       "      <td>National</td>\n",
       "      <td>0005U</td>\n",
       "      <td>Test for detecting genes associated with prost...</td>\n",
       "      <td>N</td>\n",
       "      <td>O</td>\n",
       "      <td>1</td>\n",
       "      <td>4,886</td>\n",
       "      <td>4,939</td>\n",
       "      <td>4,939</td>\n",
       "      <td>$795.00</td>\n",
       "      <td>$755.01</td>\n",
       "      <td>$755.01</td>\n",
       "      <td>$745.00</td>\n",
       "    </tr>\n",
       "    <tr>\n",
       "      <th>...</th>\n",
       "      <td>...</td>\n",
       "      <td>...</td>\n",
       "      <td>...</td>\n",
       "      <td>...</td>\n",
       "      <td>...</td>\n",
       "      <td>...</td>\n",
       "      <td>...</td>\n",
       "      <td>...</td>\n",
       "      <td>...</td>\n",
       "      <td>...</td>\n",
       "      <td>...</td>\n",
       "      <td>...</td>\n",
       "      <td>...</td>\n",
       "      <td>...</td>\n",
       "      <td>...</td>\n",
       "    </tr>\n",
       "    <tr>\n",
       "      <th>268144</th>\n",
       "      <td>State</td>\n",
       "      <td>9E</td>\n",
       "      <td>Foreign Country</td>\n",
       "      <td>G2058</td>\n",
       "      <td>Chronic care management services, each additio...</td>\n",
       "      <td>N</td>\n",
       "      <td>O</td>\n",
       "      <td>1</td>\n",
       "      <td>62</td>\n",
       "      <td>333</td>\n",
       "      <td>243</td>\n",
       "      <td>$36.64</td>\n",
       "      <td>$36.64</td>\n",
       "      <td>$29.31</td>\n",
       "      <td>$29.71</td>\n",
       "    </tr>\n",
       "    <tr>\n",
       "      <th>268145</th>\n",
       "      <td>State</td>\n",
       "      <td>9E</td>\n",
       "      <td>Foreign Country</td>\n",
       "      <td>J0897</td>\n",
       "      <td>Injection, denosumab, 1 mg</td>\n",
       "      <td>Y</td>\n",
       "      <td>O</td>\n",
       "      <td>3</td>\n",
       "      <td>14</td>\n",
       "      <td>1,140</td>\n",
       "      <td>19</td>\n",
       "      <td>$34.42</td>\n",
       "      <td>$19.51</td>\n",
       "      <td>$15.27</td>\n",
       "      <td>$15.06</td>\n",
       "    </tr>\n",
       "    <tr>\n",
       "      <th>268146</th>\n",
       "      <td>State</td>\n",
       "      <td>9E</td>\n",
       "      <td>Foreign Country</td>\n",
       "      <td>J1030</td>\n",
       "      <td>Injection, methylprednisolone acetate, 40 mg</td>\n",
       "      <td>Y</td>\n",
       "      <td>O</td>\n",
       "      <td>2</td>\n",
       "      <td>14</td>\n",
       "      <td>15.5</td>\n",
       "      <td>16</td>\n",
       "      <td>$24.84</td>\n",
       "      <td>$6.06</td>\n",
       "      <td>$4.20</td>\n",
       "      <td>$4.14</td>\n",
       "    </tr>\n",
       "    <tr>\n",
       "      <th>268147</th>\n",
       "      <td>State</td>\n",
       "      <td>9E</td>\n",
       "      <td>Foreign Country</td>\n",
       "      <td>J3301</td>\n",
       "      <td>Injection, triamcinolone acetonide, not otherw...</td>\n",
       "      <td>Y</td>\n",
       "      <td>O</td>\n",
       "      <td>4</td>\n",
       "      <td>16</td>\n",
       "      <td>78</td>\n",
       "      <td>19</td>\n",
       "      <td>$32.85</td>\n",
       "      <td>$1.38</td>\n",
       "      <td>$0.98</td>\n",
       "      <td>$1.05</td>\n",
       "    </tr>\n",
       "    <tr>\n",
       "      <th>268148</th>\n",
       "      <td>State</td>\n",
       "      <td>9E</td>\n",
       "      <td>Foreign Country</td>\n",
       "      <td>Q0091</td>\n",
       "      <td>Screening papanicolaou smear; obtaining, prepa...</td>\n",
       "      <td>N</td>\n",
       "      <td>F</td>\n",
       "      <td>2</td>\n",
       "      <td>11</td>\n",
       "      <td>11</td>\n",
       "      <td>11</td>\n",
       "      <td>$26.27</td>\n",
       "      <td>$16.12</td>\n",
       "      <td>$16.12</td>\n",
       "      <td>$16.49</td>\n",
       "    </tr>\n",
       "  </tbody>\n",
       "</table>\n",
       "<p>268149 rows × 15 columns</p>\n",
       "</div>"
      ],
      "text/plain": [
       "       Rndrng_Prvdr_Geo_Lvl Rndrng_Prvdr_Geo_Cd Rndrng_Prvdr_Geo_Desc  \\\n",
       "0                  National                  06              National   \n",
       "1                  National                  06              National   \n",
       "2                  National                  06              National   \n",
       "3                  National                  06              National   \n",
       "4                  National                  06              National   \n",
       "...                     ...                 ...                   ...   \n",
       "268144                State                  9E       Foreign Country   \n",
       "268145                State                  9E       Foreign Country   \n",
       "268146                State                  9E       Foreign Country   \n",
       "268147                State                  9E       Foreign Country   \n",
       "268148                State                  9E       Foreign Country   \n",
       "\n",
       "       HCPCS_Cd                                         HCPCS_Desc  \\\n",
       "0         0001A                       Adm sarscov2 30mcg/0.3ml 1st   \n",
       "1         0001A                       Adm sarscov2 30mcg/0.3ml 1st   \n",
       "2         0002A                       Adm sarscov2 30mcg/0.3ml 2nd   \n",
       "3         0003M                         Liver dis 10 assays w/nash   \n",
       "4         0005U  Test for detecting genes associated with prost...   \n",
       "...         ...                                                ...   \n",
       "268144    G2058  Chronic care management services, each additio...   \n",
       "268145    J0897                         Injection, denosumab, 1 mg   \n",
       "268146    J1030       Injection, methylprednisolone acetate, 40 mg   \n",
       "268147    J3301  Injection, triamcinolone acetonide, not otherw...   \n",
       "268148    Q0091  Screening papanicolaou smear; obtaining, prepa...   \n",
       "\n",
       "       HCPCS_Drug_Ind Place_Of_Srvc Tot_Rndrng_Prvdrs Tot_Benes Tot_Srvcs  \\\n",
       "0                   N             F                10        86        86   \n",
       "1                   N             O             1,809   159,365   159,385   \n",
       "2                   N             O                53       279       279   \n",
       "3                   N             O                14        88        88   \n",
       "4                   N             O                 1     4,886     4,939   \n",
       "...               ...           ...               ...       ...       ...   \n",
       "268144              N             O                 1        62       333   \n",
       "268145              Y             O                 3        14     1,140   \n",
       "268146              Y             O                 2        14      15.5   \n",
       "268147              Y             O                 4        16        78   \n",
       "268148              N             F                 2        11        11   \n",
       "\n",
       "       Tot_Bene_Day_Srvcs Avg_Sbmtd_Chrg Avg_Mdcr_Alowd_Amt Avg_Mdcr_Pymt_Amt  \\\n",
       "0                      86         $32.99             $17.50            $17.50   \n",
       "1                 159,385         $31.26             $16.79            $16.79   \n",
       "2                     279         $66.48             $28.18            $28.18   \n",
       "3                      88        $572.58            $453.14           $451.14   \n",
       "4                   4,939        $795.00            $755.01           $755.01   \n",
       "...                   ...            ...                ...               ...   \n",
       "268144                243         $36.64             $36.64            $29.31   \n",
       "268145                 19         $34.42             $19.51            $15.27   \n",
       "268146                 16         $24.84              $6.06             $4.20   \n",
       "268147                 19         $32.85              $1.38             $0.98   \n",
       "268148                 11         $26.27             $16.12            $16.12   \n",
       "\n",
       "       Avg_Mdcr_Stdzd_Amt  \n",
       "0                  $16.82  \n",
       "1                  $16.62  \n",
       "2                  $27.93  \n",
       "3                 $485.02  \n",
       "4                 $745.00  \n",
       "...                   ...  \n",
       "268144             $29.71  \n",
       "268145             $15.06  \n",
       "268146              $4.14  \n",
       "268147              $1.05  \n",
       "268148             $16.49  \n",
       "\n",
       "[268149 rows x 15 columns]"
      ]
     },
     "execution_count": 6,
     "metadata": {},
     "output_type": "execute_result"
    }
   ],
   "source": [
    "# filling with most common class\n",
    "df_clean = df.apply(lambda x: x.fillna(x.value_counts().index[0]))\n",
    "df_clean"
   ]
  },
  {
   "cell_type": "code",
   "execution_count": 7,
   "id": "605f5f85",
   "metadata": {},
   "outputs": [],
   "source": [
    "# Creating dataframes for data cleaning it easy to clean large dataset\n",
    "numericint = df_clean[['Tot_Rndrng_Prvdrs','Tot_Benes','Tot_Bene_Day_Srvcs']]"
   ]
  },
  {
   "cell_type": "code",
   "execution_count": 8,
   "id": "91f80809",
   "metadata": {},
   "outputs": [],
   "source": [
    "numericfloat = df_clean[['Tot_Srvcs','Avg_Sbmtd_Chrg','Avg_Mdcr_Alowd_Amt','Avg_Mdcr_Pymt_Amt','Avg_Mdcr_Stdzd_Amt']]"
   ]
  },
  {
   "cell_type": "code",
   "execution_count": 9,
   "id": "f18d063d",
   "metadata": {},
   "outputs": [],
   "source": [
    "objectcols = df_clean[['Rndrng_Prvdr_Geo_Lvl','Rndrng_Prvdr_Geo_Cd','Rndrng_Prvdr_Geo_Desc','HCPCS_Cd','HCPCS_Drug_Ind','Place_Of_Srvc']]"
   ]
  },
  {
   "cell_type": "code",
   "execution_count": 10,
   "id": "16cc82ef",
   "metadata": {},
   "outputs": [],
   "source": [
    "#This feature has text column. we can ignore this column\n",
    "objectcols_text = df_clean[['HCPCS_Desc']]"
   ]
  },
  {
   "cell_type": "markdown",
   "id": "8e9867ab",
   "metadata": {},
   "source": [
    "### Data Cleaning"
   ]
  },
  {
   "cell_type": "markdown",
   "id": "d10e9e0a",
   "metadata": {},
   "source": [
    "#### 1) Numericint:"
   ]
  },
  {
   "cell_type": "code",
   "execution_count": 11,
   "id": "3836ddf5",
   "metadata": {},
   "outputs": [
    {
     "name": "stderr",
     "output_type": "stream",
     "text": [
      "C:\\Users\\91798\\AppData\\Local\\Temp/ipykernel_6148/498599041.py:1: SettingWithCopyWarning: \n",
      "A value is trying to be set on a copy of a slice from a DataFrame.\n",
      "Try using .loc[row_indexer,col_indexer] = value instead\n",
      "\n",
      "See the caveats in the documentation: https://pandas.pydata.org/pandas-docs/stable/user_guide/indexing.html#returning-a-view-versus-a-copy\n",
      "  numericint.Tot_Rndrng_Prvdrs = numericint.Tot_Rndrng_Prvdrs.str.replace(\",\",\"\")\n"
     ]
    }
   ],
   "source": [
    "numericint.Tot_Rndrng_Prvdrs = numericint.Tot_Rndrng_Prvdrs.str.replace(\",\",\"\")"
   ]
  },
  {
   "cell_type": "code",
   "execution_count": 12,
   "id": "956b6e7c",
   "metadata": {},
   "outputs": [
    {
     "name": "stderr",
     "output_type": "stream",
     "text": [
      "C:\\Users\\91798\\AppData\\Local\\Temp/ipykernel_6148/147864179.py:1: SettingWithCopyWarning: \n",
      "A value is trying to be set on a copy of a slice from a DataFrame.\n",
      "Try using .loc[row_indexer,col_indexer] = value instead\n",
      "\n",
      "See the caveats in the documentation: https://pandas.pydata.org/pandas-docs/stable/user_guide/indexing.html#returning-a-view-versus-a-copy\n",
      "  numericint.Tot_Benes = numericint.Tot_Benes.str.replace(\",\",\"\")\n"
     ]
    }
   ],
   "source": [
    "numericint.Tot_Benes = numericint.Tot_Benes.str.replace(\",\",\"\")"
   ]
  },
  {
   "cell_type": "code",
   "execution_count": 13,
   "id": "2e6f51c3",
   "metadata": {},
   "outputs": [
    {
     "name": "stderr",
     "output_type": "stream",
     "text": [
      "C:\\Users\\91798\\AppData\\Local\\Temp/ipykernel_6148/1431680303.py:1: SettingWithCopyWarning: \n",
      "A value is trying to be set on a copy of a slice from a DataFrame.\n",
      "Try using .loc[row_indexer,col_indexer] = value instead\n",
      "\n",
      "See the caveats in the documentation: https://pandas.pydata.org/pandas-docs/stable/user_guide/indexing.html#returning-a-view-versus-a-copy\n",
      "  numericint.Tot_Bene_Day_Srvcs = numericint.Tot_Bene_Day_Srvcs.str.replace(\",\",\"\")\n"
     ]
    }
   ],
   "source": [
    "numericint.Tot_Bene_Day_Srvcs = numericint.Tot_Bene_Day_Srvcs.str.replace(\",\",\"\")"
   ]
  },
  {
   "cell_type": "code",
   "execution_count": 14,
   "id": "473b664c",
   "metadata": {},
   "outputs": [],
   "source": [
    "numericint = numericint.astype('int32')"
   ]
  },
  {
   "cell_type": "markdown",
   "id": "a1e2bcac",
   "metadata": {},
   "source": [
    "#### 2)numericfloat:"
   ]
  },
  {
   "cell_type": "code",
   "execution_count": 15,
   "id": "303c53f7",
   "metadata": {},
   "outputs": [
    {
     "name": "stderr",
     "output_type": "stream",
     "text": [
      "C:\\Users\\91798\\AppData\\Local\\Temp/ipykernel_6148/1984970561.py:1: SettingWithCopyWarning: \n",
      "A value is trying to be set on a copy of a slice from a DataFrame.\n",
      "Try using .loc[row_indexer,col_indexer] = value instead\n",
      "\n",
      "See the caveats in the documentation: https://pandas.pydata.org/pandas-docs/stable/user_guide/indexing.html#returning-a-view-versus-a-copy\n",
      "  numericfloat.Tot_Srvcs = numericfloat.Tot_Srvcs.str.replace(\",\",\"\")\n"
     ]
    }
   ],
   "source": [
    "numericfloat.Tot_Srvcs = numericfloat.Tot_Srvcs.str.replace(\",\",\"\")"
   ]
  },
  {
   "cell_type": "code",
   "execution_count": 16,
   "id": "a2a15997",
   "metadata": {},
   "outputs": [
    {
     "name": "stderr",
     "output_type": "stream",
     "text": [
      "C:\\Users\\91798\\AppData\\Local\\Temp/ipykernel_6148/4225982932.py:1: FutureWarning: The default value of regex will change from True to False in a future version. In addition, single character regular expressions will *not* be treated as literal strings when regex=True.\n",
      "  numericfloat.Tot_Srvcs = numericfloat.Tot_Srvcs.str.replace(\"$\",\"\")\n",
      "C:\\Users\\91798\\AppData\\Local\\Temp/ipykernel_6148/4225982932.py:1: SettingWithCopyWarning: \n",
      "A value is trying to be set on a copy of a slice from a DataFrame.\n",
      "Try using .loc[row_indexer,col_indexer] = value instead\n",
      "\n",
      "See the caveats in the documentation: https://pandas.pydata.org/pandas-docs/stable/user_guide/indexing.html#returning-a-view-versus-a-copy\n",
      "  numericfloat.Tot_Srvcs = numericfloat.Tot_Srvcs.str.replace(\"$\",\"\")\n"
     ]
    }
   ],
   "source": [
    "numericfloat.Tot_Srvcs = numericfloat.Tot_Srvcs.str.replace(\"$\",\"\")"
   ]
  },
  {
   "cell_type": "code",
   "execution_count": 17,
   "id": "ea5dc406",
   "metadata": {},
   "outputs": [
    {
     "name": "stderr",
     "output_type": "stream",
     "text": [
      "C:\\Users\\91798\\AppData\\Local\\Temp/ipykernel_6148/1442461842.py:1: SettingWithCopyWarning: \n",
      "A value is trying to be set on a copy of a slice from a DataFrame.\n",
      "Try using .loc[row_indexer,col_indexer] = value instead\n",
      "\n",
      "See the caveats in the documentation: https://pandas.pydata.org/pandas-docs/stable/user_guide/indexing.html#returning-a-view-versus-a-copy\n",
      "  numericfloat.Avg_Sbmtd_Chrg = numericfloat.Avg_Sbmtd_Chrg.str.replace(\",\",\"\")\n"
     ]
    }
   ],
   "source": [
    "numericfloat.Avg_Sbmtd_Chrg = numericfloat.Avg_Sbmtd_Chrg.str.replace(\",\",\"\")"
   ]
  },
  {
   "cell_type": "code",
   "execution_count": 18,
   "id": "f9c9b4ea",
   "metadata": {},
   "outputs": [
    {
     "name": "stderr",
     "output_type": "stream",
     "text": [
      "C:\\Users\\91798\\AppData\\Local\\Temp/ipykernel_6148/831516647.py:1: FutureWarning: The default value of regex will change from True to False in a future version. In addition, single character regular expressions will *not* be treated as literal strings when regex=True.\n",
      "  numericfloat.Avg_Sbmtd_Chrg = numericfloat.Avg_Sbmtd_Chrg.str.replace(\"$\",\"\")\n",
      "C:\\Users\\91798\\AppData\\Local\\Temp/ipykernel_6148/831516647.py:1: SettingWithCopyWarning: \n",
      "A value is trying to be set on a copy of a slice from a DataFrame.\n",
      "Try using .loc[row_indexer,col_indexer] = value instead\n",
      "\n",
      "See the caveats in the documentation: https://pandas.pydata.org/pandas-docs/stable/user_guide/indexing.html#returning-a-view-versus-a-copy\n",
      "  numericfloat.Avg_Sbmtd_Chrg = numericfloat.Avg_Sbmtd_Chrg.str.replace(\"$\",\"\")\n"
     ]
    }
   ],
   "source": [
    "numericfloat.Avg_Sbmtd_Chrg = numericfloat.Avg_Sbmtd_Chrg.str.replace(\"$\",\"\")"
   ]
  },
  {
   "cell_type": "code",
   "execution_count": 19,
   "id": "3c0d7582",
   "metadata": {},
   "outputs": [
    {
     "name": "stderr",
     "output_type": "stream",
     "text": [
      "C:\\Users\\91798\\AppData\\Local\\Temp/ipykernel_6148/2447265504.py:1: SettingWithCopyWarning: \n",
      "A value is trying to be set on a copy of a slice from a DataFrame.\n",
      "Try using .loc[row_indexer,col_indexer] = value instead\n",
      "\n",
      "See the caveats in the documentation: https://pandas.pydata.org/pandas-docs/stable/user_guide/indexing.html#returning-a-view-versus-a-copy\n",
      "  numericfloat.Avg_Mdcr_Alowd_Amt = numericfloat.Avg_Mdcr_Alowd_Amt.str.replace(\",\",\"\")\n"
     ]
    }
   ],
   "source": [
    "numericfloat.Avg_Mdcr_Alowd_Amt = numericfloat.Avg_Mdcr_Alowd_Amt.str.replace(\",\",\"\")"
   ]
  },
  {
   "cell_type": "code",
   "execution_count": 20,
   "id": "5f1f6f0f",
   "metadata": {},
   "outputs": [
    {
     "name": "stderr",
     "output_type": "stream",
     "text": [
      "C:\\Users\\91798\\AppData\\Local\\Temp/ipykernel_6148/116582745.py:1: FutureWarning: The default value of regex will change from True to False in a future version. In addition, single character regular expressions will *not* be treated as literal strings when regex=True.\n",
      "  numericfloat.Avg_Mdcr_Alowd_Amt = numericfloat.Avg_Mdcr_Alowd_Amt.str.replace(\"$\",\"\")\n",
      "C:\\Users\\91798\\AppData\\Local\\Temp/ipykernel_6148/116582745.py:1: SettingWithCopyWarning: \n",
      "A value is trying to be set on a copy of a slice from a DataFrame.\n",
      "Try using .loc[row_indexer,col_indexer] = value instead\n",
      "\n",
      "See the caveats in the documentation: https://pandas.pydata.org/pandas-docs/stable/user_guide/indexing.html#returning-a-view-versus-a-copy\n",
      "  numericfloat.Avg_Mdcr_Alowd_Amt = numericfloat.Avg_Mdcr_Alowd_Amt.str.replace(\"$\",\"\")\n"
     ]
    }
   ],
   "source": [
    "numericfloat.Avg_Mdcr_Alowd_Amt = numericfloat.Avg_Mdcr_Alowd_Amt.str.replace(\"$\",\"\")"
   ]
  },
  {
   "cell_type": "code",
   "execution_count": 21,
   "id": "97807031",
   "metadata": {},
   "outputs": [
    {
     "name": "stderr",
     "output_type": "stream",
     "text": [
      "C:\\Users\\91798\\AppData\\Local\\Temp/ipykernel_6148/2147607590.py:1: SettingWithCopyWarning: \n",
      "A value is trying to be set on a copy of a slice from a DataFrame.\n",
      "Try using .loc[row_indexer,col_indexer] = value instead\n",
      "\n",
      "See the caveats in the documentation: https://pandas.pydata.org/pandas-docs/stable/user_guide/indexing.html#returning-a-view-versus-a-copy\n",
      "  numericfloat.Avg_Mdcr_Pymt_Amt = numericfloat.Avg_Mdcr_Pymt_Amt.str.replace(\",\",\"\")\n"
     ]
    }
   ],
   "source": [
    "numericfloat.Avg_Mdcr_Pymt_Amt = numericfloat.Avg_Mdcr_Pymt_Amt.str.replace(\",\",\"\")"
   ]
  },
  {
   "cell_type": "code",
   "execution_count": 22,
   "id": "90d5d9b6",
   "metadata": {},
   "outputs": [
    {
     "name": "stderr",
     "output_type": "stream",
     "text": [
      "C:\\Users\\91798\\AppData\\Local\\Temp/ipykernel_6148/1361927190.py:1: FutureWarning: The default value of regex will change from True to False in a future version. In addition, single character regular expressions will *not* be treated as literal strings when regex=True.\n",
      "  numericfloat.Avg_Mdcr_Pymt_Amt = numericfloat.Avg_Mdcr_Pymt_Amt.str.replace(\"$\",\"\")\n",
      "C:\\Users\\91798\\AppData\\Local\\Temp/ipykernel_6148/1361927190.py:1: SettingWithCopyWarning: \n",
      "A value is trying to be set on a copy of a slice from a DataFrame.\n",
      "Try using .loc[row_indexer,col_indexer] = value instead\n",
      "\n",
      "See the caveats in the documentation: https://pandas.pydata.org/pandas-docs/stable/user_guide/indexing.html#returning-a-view-versus-a-copy\n",
      "  numericfloat.Avg_Mdcr_Pymt_Amt = numericfloat.Avg_Mdcr_Pymt_Amt.str.replace(\"$\",\"\")\n"
     ]
    }
   ],
   "source": [
    "numericfloat.Avg_Mdcr_Pymt_Amt = numericfloat.Avg_Mdcr_Pymt_Amt.str.replace(\"$\",\"\")"
   ]
  },
  {
   "cell_type": "code",
   "execution_count": 23,
   "id": "18ac03fe",
   "metadata": {},
   "outputs": [
    {
     "name": "stderr",
     "output_type": "stream",
     "text": [
      "C:\\Users\\91798\\AppData\\Local\\Temp/ipykernel_6148/2907217918.py:1: SettingWithCopyWarning: \n",
      "A value is trying to be set on a copy of a slice from a DataFrame.\n",
      "Try using .loc[row_indexer,col_indexer] = value instead\n",
      "\n",
      "See the caveats in the documentation: https://pandas.pydata.org/pandas-docs/stable/user_guide/indexing.html#returning-a-view-versus-a-copy\n",
      "  numericfloat.Avg_Mdcr_Stdzd_Amt = numericfloat.Avg_Mdcr_Stdzd_Amt.str.replace(\",\",\"\")\n"
     ]
    }
   ],
   "source": [
    "numericfloat.Avg_Mdcr_Stdzd_Amt = numericfloat.Avg_Mdcr_Stdzd_Amt.str.replace(\",\",\"\")"
   ]
  },
  {
   "cell_type": "code",
   "execution_count": 24,
   "id": "7a7656c3",
   "metadata": {},
   "outputs": [
    {
     "name": "stderr",
     "output_type": "stream",
     "text": [
      "C:\\Users\\91798\\AppData\\Local\\Temp/ipykernel_6148/193031717.py:1: FutureWarning: The default value of regex will change from True to False in a future version. In addition, single character regular expressions will *not* be treated as literal strings when regex=True.\n",
      "  numericfloat.Avg_Mdcr_Stdzd_Amt = numericfloat.Avg_Mdcr_Stdzd_Amt.str.replace(\"$\",\"\")\n",
      "C:\\Users\\91798\\AppData\\Local\\Temp/ipykernel_6148/193031717.py:1: SettingWithCopyWarning: \n",
      "A value is trying to be set on a copy of a slice from a DataFrame.\n",
      "Try using .loc[row_indexer,col_indexer] = value instead\n",
      "\n",
      "See the caveats in the documentation: https://pandas.pydata.org/pandas-docs/stable/user_guide/indexing.html#returning-a-view-versus-a-copy\n",
      "  numericfloat.Avg_Mdcr_Stdzd_Amt = numericfloat.Avg_Mdcr_Stdzd_Amt.str.replace(\"$\",\"\")\n"
     ]
    }
   ],
   "source": [
    "numericfloat.Avg_Mdcr_Stdzd_Amt = numericfloat.Avg_Mdcr_Stdzd_Amt.str.replace(\"$\",\"\")"
   ]
  },
  {
   "cell_type": "code",
   "execution_count": 25,
   "id": "c0c934d6",
   "metadata": {},
   "outputs": [],
   "source": [
    "numericfloat = numericfloat.astype('float64')"
   ]
  },
  {
   "cell_type": "code",
   "execution_count": 26,
   "id": "af51a3b6",
   "metadata": {},
   "outputs": [
    {
     "data": {
      "text/plain": [
       "(268149, 8)"
      ]
     },
     "execution_count": 26,
     "metadata": {},
     "output_type": "execute_result"
    }
   ],
   "source": [
    "#Lets combine all the numeric columns together as one data frame\n",
    "numcols = pd.concat([numericint,numericfloat],axis=1)\n",
    "numcols.shape"
   ]
  },
  {
   "cell_type": "markdown",
   "id": "2d47963c",
   "metadata": {},
   "source": [
    "### Finding the correlation between variables"
   ]
  },
  {
   "cell_type": "code",
   "execution_count": 27,
   "id": "5c6c00a0",
   "metadata": {},
   "outputs": [],
   "source": [
    "import seaborn as sns"
   ]
  },
  {
   "cell_type": "code",
   "execution_count": 28,
   "id": "33589e59",
   "metadata": {},
   "outputs": [
    {
     "data": {
      "text/plain": [
       "<AxesSubplot: >"
      ]
     },
     "execution_count": 28,
     "metadata": {},
     "output_type": "execute_result"
    },
    {
     "data": {
      "image/png": "[encoded data removed]",
      "text/plain": [
       "<Figure size 1080x720 with 2 Axes>"
      ]
     },
     "metadata": {
      "needs_background": "light"
     },
     "output_type": "display_data"
    }
   ],
   "source": [
    "plt.figure(figsize=(15,10))\n",
    "sns.heatmap(numcols.corr(),annot=True,cmap='Pastel2')"
   ]
  },
  {
   "cell_type": "markdown",
   "id": "5358a3b1",
   "metadata": {},
   "source": [
    "### Combining all dataframes into a single data frame"
   ]
  },
  {
   "cell_type": "code",
   "execution_count": 29,
   "id": "90bef00b",
   "metadata": {},
   "outputs": [],
   "source": [
    "combinedf = pd.concat([objectcols,numcols],axis=1)"
   ]
  },
  {
   "cell_type": "code",
   "execution_count": 30,
   "id": "3df18dbc",
   "metadata": {},
   "outputs": [
    {
     "data": {
      "text/plain": [
       "(268149, 14)"
      ]
     },
     "execution_count": 30,
     "metadata": {},
     "output_type": "execute_result"
    }
   ],
   "source": [
    "combinedf.shape"
   ]
  },
  {
   "cell_type": "code",
   "execution_count": 31,
   "id": "1e3083f3",
   "metadata": {},
   "outputs": [
    {
     "data": {
      "text/html": [
       "<div>\n",
       "<style scoped>\n",
       "    .dataframe tbody tr th:only-of-type {\n",
       "        vertical-align: middle;\n",
       "    }\n",
       "\n",
       "    .dataframe tbody tr th {\n",
       "        vertical-align: top;\n",
       "    }\n",
       "\n",
       "    .dataframe thead th {\n",
       "        text-align: right;\n",
       "    }\n",
       "</style>\n",
       "<table border=\"1\" class=\"dataframe\">\n",
       "  <thead>\n",
       "    <tr style=\"text-align: right;\">\n",
       "      <th></th>\n",
       "      <th>Tot_Rndrng_Prvdrs</th>\n",
       "      <th>Tot_Benes</th>\n",
       "      <th>Tot_Bene_Day_Srvcs</th>\n",
       "      <th>Tot_Srvcs</th>\n",
       "      <th>Avg_Sbmtd_Chrg</th>\n",
       "      <th>Avg_Mdcr_Alowd_Amt</th>\n",
       "      <th>Avg_Mdcr_Pymt_Amt</th>\n",
       "      <th>Avg_Mdcr_Stdzd_Amt</th>\n",
       "    </tr>\n",
       "  </thead>\n",
       "  <tbody>\n",
       "    <tr>\n",
       "      <th>count</th>\n",
       "      <td>268149.000000</td>\n",
       "      <td>2.681490e+05</td>\n",
       "      <td>2.681490e+05</td>\n",
       "      <td>2.681490e+05</td>\n",
       "      <td>268149.000000</td>\n",
       "      <td>268149.000000</td>\n",
       "      <td>268149.000000</td>\n",
       "      <td>268149.000000</td>\n",
       "    </tr>\n",
       "    <tr>\n",
       "      <th>mean</th>\n",
       "      <td>265.080384</td>\n",
       "      <td>5.102847e+03</td>\n",
       "      <td>9.813789e+03</td>\n",
       "      <td>2.217960e+04</td>\n",
       "      <td>1252.792847</td>\n",
       "      <td>294.650539</td>\n",
       "      <td>234.689176</td>\n",
       "      <td>231.083291</td>\n",
       "    </tr>\n",
       "    <tr>\n",
       "      <th>std</th>\n",
       "      <td>3217.362460</td>\n",
       "      <td>1.093134e+05</td>\n",
       "      <td>2.935606e+05</td>\n",
       "      <td>5.981873e+05</td>\n",
       "      <td>2377.146048</td>\n",
       "      <td>769.097494</td>\n",
       "      <td>615.856301</td>\n",
       "      <td>609.502232</td>\n",
       "    </tr>\n",
       "    <tr>\n",
       "      <th>min</th>\n",
       "      <td>1.000000</td>\n",
       "      <td>1.100000e+01</td>\n",
       "      <td>1.100000e+01</td>\n",
       "      <td>1.100000e+01</td>\n",
       "      <td>0.000000</td>\n",
       "      <td>0.000000</td>\n",
       "      <td>0.000000</td>\n",
       "      <td>0.000000</td>\n",
       "    </tr>\n",
       "    <tr>\n",
       "      <th>25%</th>\n",
       "      <td>12.000000</td>\n",
       "      <td>3.000000e+01</td>\n",
       "      <td>3.800000e+01</td>\n",
       "      <td>4.000000e+01</td>\n",
       "      <td>125.930000</td>\n",
       "      <td>36.350000</td>\n",
       "      <td>28.720000</td>\n",
       "      <td>28.520000</td>\n",
       "    </tr>\n",
       "    <tr>\n",
       "      <th>50%</th>\n",
       "      <td>29.000000</td>\n",
       "      <td>1.040000e+02</td>\n",
       "      <td>1.400000e+02</td>\n",
       "      <td>1.570000e+02</td>\n",
       "      <td>429.060000</td>\n",
       "      <td>114.710000</td>\n",
       "      <td>88.850000</td>\n",
       "      <td>87.750000</td>\n",
       "    </tr>\n",
       "    <tr>\n",
       "      <th>75%</th>\n",
       "      <td>95.000000</td>\n",
       "      <td>5.650000e+02</td>\n",
       "      <td>8.010000e+02</td>\n",
       "      <td>1.027000e+03</td>\n",
       "      <td>1551.450000</td>\n",
       "      <td>324.140000</td>\n",
       "      <td>257.900000</td>\n",
       "      <td>255.130000</td>\n",
       "    </tr>\n",
       "    <tr>\n",
       "      <th>max</th>\n",
       "      <td>581706.000000</td>\n",
       "      <td>2.179407e+07</td>\n",
       "      <td>8.171052e+07</td>\n",
       "      <td>1.221294e+08</td>\n",
       "      <td>92910.470000</td>\n",
       "      <td>50821.880000</td>\n",
       "      <td>40603.950000</td>\n",
       "      <td>40010.080000</td>\n",
       "    </tr>\n",
       "  </tbody>\n",
       "</table>\n",
       "</div>"
      ],
      "text/plain": [
       "       Tot_Rndrng_Prvdrs     Tot_Benes  Tot_Bene_Day_Srvcs     Tot_Srvcs  \\\n",
       "count      268149.000000  2.681490e+05        2.681490e+05  2.681490e+05   \n",
       "mean          265.080384  5.102847e+03        9.813789e+03  2.217960e+04   \n",
       "std          3217.362460  1.093134e+05        2.935606e+05  5.981873e+05   \n",
       "min             1.000000  1.100000e+01        1.100000e+01  1.100000e+01   \n",
       "25%            12.000000  3.000000e+01        3.800000e+01  4.000000e+01   \n",
       "50%            29.000000  1.040000e+02        1.400000e+02  1.570000e+02   \n",
       "75%            95.000000  5.650000e+02        8.010000e+02  1.027000e+03   \n",
       "max        581706.000000  2.179407e+07        8.171052e+07  1.221294e+08   \n",
       "\n",
       "       Avg_Sbmtd_Chrg  Avg_Mdcr_Alowd_Amt  Avg_Mdcr_Pymt_Amt  \\\n",
       "count   268149.000000       268149.000000      268149.000000   \n",
       "mean      1252.792847          294.650539         234.689176   \n",
       "std       2377.146048          769.097494         615.856301   \n",
       "min          0.000000            0.000000           0.000000   \n",
       "25%        125.930000           36.350000          28.720000   \n",
       "50%        429.060000          114.710000          88.850000   \n",
       "75%       1551.450000          324.140000         257.900000   \n",
       "max      92910.470000        50821.880000       40603.950000   \n",
       "\n",
       "       Avg_Mdcr_Stdzd_Amt  \n",
       "count       268149.000000  \n",
       "mean           231.083291  \n",
       "std            609.502232  \n",
       "min              0.000000  \n",
       "25%             28.520000  \n",
       "50%             87.750000  \n",
       "75%            255.130000  \n",
       "max          40010.080000  "
      ]
     },
     "execution_count": 31,
     "metadata": {},
     "output_type": "execute_result"
    }
   ],
   "source": [
    "combinedf.describe()\n",
    "#For the Target Variable- When mean > median then the data is aid to be positively skewed.\n",
    "# Therefore \"Avg_Mdcr_Alowd_Amt\" is Positively Skewed."
   ]
  },
  {
   "cell_type": "markdown",
   "id": "7035b5eb",
   "metadata": {},
   "source": [
    "1) It tells us if the data is heavy or light tailed relative to a normal distribution.\n",
    "\n",
    "2) Kurtosis range from -10 to +10."
   ]
  },
  {
   "cell_type": "code",
   "execution_count": 32,
   "id": "4a58d595",
   "metadata": {},
   "outputs": [
    {
     "name": "stdout",
     "output_type": "stream",
     "text": [
      "30.406919766372464\n",
      "1652.1810788820355\n"
     ]
    }
   ],
   "source": [
    "#Impact before Logarithmic Transformation\n",
    "from scipy.stats import kurtosis,skew\n",
    "print(combinedf.Avg_Mdcr_Alowd_Amt.skew())\n",
    "print(combinedf.Avg_Mdcr_Alowd_Amt.kurt())"
   ]
  },
  {
   "cell_type": "code",
   "execution_count": 33,
   "id": "0c8a1491",
   "metadata": {},
   "outputs": [
    {
     "data": {
      "text/plain": [
       "<AxesSubplot: ylabel='Density'>"
      ]
     },
     "execution_count": 33,
     "metadata": {},
     "output_type": "execute_result"
    },
    {
     "data": {
      "image/png": "[encoded data removed]",
      "text/plain": [
       "<Figure size 432x288 with 1 Axes>"
      ]
     },
     "metadata": {
      "needs_background": "light"
     },
     "output_type": "display_data"
    }
   ],
   "source": [
    "combinedf.Avg_Mdcr_Alowd_Amt.plot(kind ='density')"
   ]
  },
  {
   "cell_type": "code",
   "execution_count": 34,
   "id": "a95406d6",
   "metadata": {},
   "outputs": [
    {
     "name": "stdout",
     "output_type": "stream",
     "text": [
      "nan\n",
      "nan\n"
     ]
    },
    {
     "name": "stderr",
     "output_type": "stream",
     "text": [
      "C:\\Users\\91798\\.conda\\lib\\site-packages\\pandas\\core\\arraylike.py:402: RuntimeWarning: divide by zero encountered in log\n",
      "  result = getattr(ufunc, method)(*inputs, **kwargs)\n"
     ]
    }
   ],
   "source": [
    "# Impact of Logarithmic Transformation\n",
    "print(np.log(combinedf.Avg_Mdcr_Alowd_Amt).skew())\n",
    "print(np.log(combinedf.Avg_Mdcr_Alowd_Amt).kurt())"
   ]
  },
  {
   "cell_type": "code",
   "execution_count": 35,
   "id": "25ac843d",
   "metadata": {},
   "outputs": [
    {
     "data": {
      "text/plain": [
       "0"
      ]
     },
     "execution_count": 35,
     "metadata": {},
     "output_type": "execute_result"
    }
   ],
   "source": [
    "combinedf['Avg_Mdcr_Alowd_Amt'].isna().sum()"
   ]
  },
  {
   "cell_type": "markdown",
   "id": "3e21033a",
   "metadata": {},
   "source": [
    "It's giving us nan because there are some values as the zero. In log transformation, it deals with only the postive\n",
    "and negative numbers, not with zero. The log is the range in between (-infinity to infinity) but grater or lesss than zero. \n",
    "\n",
    "We are getting zeros inside the data, we refer to root Transformation."
   ]
  },
  {
   "cell_type": "markdown",
   "id": "187ab14c",
   "metadata": {},
   "source": [
    "#### Root Transformation"
   ]
  },
  {
   "cell_type": "markdown",
   "id": "d15d9fbc",
   "metadata": {},
   "source": [
    "It is a transformation with a moderate effect on distribution shape. It is weaker than the logarithm and cube root. "
   ]
  },
  {
   "cell_type": "markdown",
   "id": "034b5061",
   "metadata": {},
   "source": [
    "It is also used for reducing right skewness, and also has the advantage that it can be applied to zero values. Note that the square root of an area has the units of a length. It is commonly applied to counted data, especially if the values are mostly rather small."
   ]
  },
  {
   "cell_type": "code",
   "execution_count": 36,
   "id": "88b3a4ee",
   "metadata": {},
   "outputs": [
    {
     "name": "stdout",
     "output_type": "stream",
     "text": [
      "2.7842587934632936\n",
      "24.062205856778522\n"
     ]
    }
   ],
   "source": [
    "#calculating the square root for Avg_Mdcr_Alowd_Amt column\n",
    "print(np.sqrt(combinedf.Avg_Mdcr_Alowd_Amt).skew())\n",
    "print(np.sqrt(combinedf.Avg_Mdcr_Alowd_Amt).kurt())"
   ]
  },
  {
   "cell_type": "code",
   "execution_count": 37,
   "id": "a226673f",
   "metadata": {},
   "outputs": [
    {
     "data": {
      "text/plain": [
       "<AxesSubplot: ylabel='Density'>"
      ]
     },
     "execution_count": 37,
     "metadata": {},
     "output_type": "execute_result"
    },
    {
     "data": {
      "image/png": "[encoded data removed]",
      "text/plain": [
       "<Figure size 432x288 with 1 Axes>"
      ]
     },
     "metadata": {
      "needs_background": "light"
     },
     "output_type": "display_data"
    }
   ],
   "source": [
    "np.sqrt(combinedf.Avg_Mdcr_Alowd_Amt).plot(kind=\"density\")"
   ]
  },
  {
   "cell_type": "markdown",
   "id": "960fd226",
   "metadata": {},
   "source": [
    "Note: In the previous case, we got the nan because of zero, but the square root transformation has reduced the skewed and kurtosis values."
   ]
  },
  {
   "cell_type": "markdown",
   "id": "5bb14947",
   "metadata": {},
   "source": [
    "#### Cube Root Transformation"
   ]
  },
  {
   "cell_type": "markdown",
   "id": "84c0987f",
   "metadata": {},
   "source": [
    "This is fairly strong transformation with a substantial effect on distribution shape.\n",
    "\n",
    "It is weaker than the logarithm but stronger than the square root transformation.\n",
    "\n",
    "It is also used for reducing right skewness and has the advantage that it can be applied to zero and negative values."
   ]
  },
  {
   "cell_type": "code",
   "execution_count": 38,
   "id": "20ded50c",
   "metadata": {},
   "outputs": [
    {
     "name": "stdout",
     "output_type": "stream",
     "text": [
      "1.215156912362404\n",
      "4.028614277454736\n"
     ]
    }
   ],
   "source": [
    "#calculating the cub root for Avg_Mdcr_Alowd_Amt column\n",
    "print(np.cbrt(combinedf.Avg_Mdcr_Alowd_Amt).skew())\n",
    "print(np.cbrt(combinedf.Avg_Mdcr_Alowd_Amt).kurt())"
   ]
  },
  {
   "cell_type": "code",
   "execution_count": 39,
   "id": "2d781964",
   "metadata": {},
   "outputs": [
    {
     "data": {
      "text/plain": [
       "<AxesSubplot: ylabel='Density'>"
      ]
     },
     "execution_count": 39,
     "metadata": {},
     "output_type": "execute_result"
    },
    {
     "data": {
      "image/png": "[encoded data removed]",
      "text/plain": [
       "<Figure size 432x288 with 1 Axes>"
      ]
     },
     "metadata": {
      "needs_background": "light"
     },
     "output_type": "display_data"
    }
   ],
   "source": [
    "np.cbrt(combinedf.Avg_Mdcr_Alowd_Amt).plot(kind=\"density\")"
   ]
  },
  {
   "cell_type": "markdown",
   "id": "58a5d0e6",
   "metadata": {},
   "source": [
    "### Data Transformation:"
   ]
  },
  {
   "cell_type": "markdown",
   "id": "05bd0e76",
   "metadata": {},
   "source": [
    "### Label Encoding Object Columns:"
   ]
  },
  {
   "cell_type": "code",
   "execution_count": 40,
   "id": "5a8bc0dd",
   "metadata": {},
   "outputs": [],
   "source": [
    "from sklearn.preprocessing import LabelEncoder"
   ]
  },
  {
   "cell_type": "code",
   "execution_count": 41,
   "id": "a2b1a224",
   "metadata": {},
   "outputs": [],
   "source": [
    "le = LabelEncoder()"
   ]
  },
  {
   "cell_type": "code",
   "execution_count": 42,
   "id": "8c52b51f",
   "metadata": {},
   "outputs": [],
   "source": [
    "objectencoded = objectcols.apply(le.fit_transform)"
   ]
  },
  {
   "cell_type": "code",
   "execution_count": 43,
   "id": "957067d4",
   "metadata": {},
   "outputs": [],
   "source": [
    "combinedf = pd.concat([objectencoded,numcols],axis = 1)"
   ]
  },
  {
   "cell_type": "code",
   "execution_count": 44,
   "id": "5f24ca19",
   "metadata": {},
   "outputs": [
    {
     "data": {
      "text/plain": [
       "(268149, 14)"
      ]
     },
     "execution_count": 44,
     "metadata": {},
     "output_type": "execute_result"
    }
   ],
   "source": [
    "combinedf.shape"
   ]
  },
  {
   "cell_type": "markdown",
   "id": "e9df0275",
   "metadata": {},
   "source": [
    "#### Lets Divide the data into two parts X and y"
   ]
  },
  {
   "cell_type": "code",
   "execution_count": 45,
   "id": "2ae43c0e",
   "metadata": {},
   "outputs": [],
   "source": [
    "# Since there is high collinearity between 'Avg_Mdcr_Pymt_Amt', 'Avg_Mdcr_Stdzd_Amt' and 'Avg_Mdcr_Allowd_Amt'\n",
    "# I have dropped variables Avg_Mdcr_Pymt_Amt and 'Avg_Mdcr_Stdzd_Amt'\n",
    "y = combinedf.Avg_Mdcr_Alowd_Amt\n",
    "X = combinedf.drop(['Avg_Mdcr_Pymt_Amt','Avg_Mdcr_Stdzd_Amt','Avg_Mdcr_Alowd_Amt'],axis=1)"
   ]
  },
  {
   "cell_type": "code",
   "execution_count": 46,
   "id": "440ee213",
   "metadata": {},
   "outputs": [
    {
     "data": {
      "text/html": [
       "<div>\n",
       "<style scoped>\n",
       "    .dataframe tbody tr th:only-of-type {\n",
       "        vertical-align: middle;\n",
       "    }\n",
       "\n",
       "    .dataframe tbody tr th {\n",
       "        vertical-align: top;\n",
       "    }\n",
       "\n",
       "    .dataframe thead th {\n",
       "        text-align: right;\n",
       "    }\n",
       "</style>\n",
       "<table border=\"1\" class=\"dataframe\">\n",
       "  <thead>\n",
       "    <tr style=\"text-align: right;\">\n",
       "      <th></th>\n",
       "      <th>Rndrng_Prvdr_Geo_Lvl</th>\n",
       "      <th>Rndrng_Prvdr_Geo_Cd</th>\n",
       "      <th>Rndrng_Prvdr_Geo_Desc</th>\n",
       "      <th>HCPCS_Cd</th>\n",
       "      <th>HCPCS_Drug_Ind</th>\n",
       "      <th>Place_Of_Srvc</th>\n",
       "      <th>Tot_Rndrng_Prvdrs</th>\n",
       "      <th>Tot_Benes</th>\n",
       "      <th>Tot_Bene_Day_Srvcs</th>\n",
       "      <th>Tot_Srvcs</th>\n",
       "      <th>Avg_Sbmtd_Chrg</th>\n",
       "    </tr>\n",
       "  </thead>\n",
       "  <tbody>\n",
       "    <tr>\n",
       "      <th>0</th>\n",
       "      <td>0</td>\n",
       "      <td>4</td>\n",
       "      <td>33</td>\n",
       "      <td>0</td>\n",
       "      <td>0</td>\n",
       "      <td>0</td>\n",
       "      <td>10</td>\n",
       "      <td>86</td>\n",
       "      <td>86</td>\n",
       "      <td>86.0</td>\n",
       "      <td>32.99</td>\n",
       "    </tr>\n",
       "    <tr>\n",
       "      <th>1</th>\n",
       "      <td>0</td>\n",
       "      <td>4</td>\n",
       "      <td>33</td>\n",
       "      <td>0</td>\n",
       "      <td>0</td>\n",
       "      <td>1</td>\n",
       "      <td>1809</td>\n",
       "      <td>159365</td>\n",
       "      <td>159385</td>\n",
       "      <td>159385.0</td>\n",
       "      <td>31.26</td>\n",
       "    </tr>\n",
       "    <tr>\n",
       "      <th>2</th>\n",
       "      <td>0</td>\n",
       "      <td>4</td>\n",
       "      <td>33</td>\n",
       "      <td>1</td>\n",
       "      <td>0</td>\n",
       "      <td>1</td>\n",
       "      <td>53</td>\n",
       "      <td>279</td>\n",
       "      <td>279</td>\n",
       "      <td>279.0</td>\n",
       "      <td>66.48</td>\n",
       "    </tr>\n",
       "    <tr>\n",
       "      <th>3</th>\n",
       "      <td>0</td>\n",
       "      <td>4</td>\n",
       "      <td>33</td>\n",
       "      <td>2</td>\n",
       "      <td>0</td>\n",
       "      <td>1</td>\n",
       "      <td>14</td>\n",
       "      <td>88</td>\n",
       "      <td>88</td>\n",
       "      <td>88.0</td>\n",
       "      <td>572.58</td>\n",
       "    </tr>\n",
       "    <tr>\n",
       "      <th>4</th>\n",
       "      <td>0</td>\n",
       "      <td>4</td>\n",
       "      <td>33</td>\n",
       "      <td>3</td>\n",
       "      <td>0</td>\n",
       "      <td>1</td>\n",
       "      <td>1</td>\n",
       "      <td>4886</td>\n",
       "      <td>4939</td>\n",
       "      <td>4939.0</td>\n",
       "      <td>795.00</td>\n",
       "    </tr>\n",
       "  </tbody>\n",
       "</table>\n",
       "</div>"
      ],
      "text/plain": [
       "   Rndrng_Prvdr_Geo_Lvl  Rndrng_Prvdr_Geo_Cd  Rndrng_Prvdr_Geo_Desc  HCPCS_Cd  \\\n",
       "0                     0                    4                     33         0   \n",
       "1                     0                    4                     33         0   \n",
       "2                     0                    4                     33         1   \n",
       "3                     0                    4                     33         2   \n",
       "4                     0                    4                     33         3   \n",
       "\n",
       "   HCPCS_Drug_Ind  Place_Of_Srvc  Tot_Rndrng_Prvdrs  Tot_Benes  \\\n",
       "0               0              0                 10         86   \n",
       "1               0              1               1809     159365   \n",
       "2               0              1                 53        279   \n",
       "3               0              1                 14         88   \n",
       "4               0              1                  1       4886   \n",
       "\n",
       "   Tot_Bene_Day_Srvcs  Tot_Srvcs  Avg_Sbmtd_Chrg  \n",
       "0                  86       86.0           32.99  \n",
       "1              159385   159385.0           31.26  \n",
       "2                 279      279.0           66.48  \n",
       "3                  88       88.0          572.58  \n",
       "4                4939     4939.0          795.00  "
      ]
     },
     "execution_count": 46,
     "metadata": {},
     "output_type": "execute_result"
    }
   ],
   "source": [
    "X.head()"
   ]
  },
  {
   "cell_type": "code",
   "execution_count": 47,
   "id": "8dc85048",
   "metadata": {},
   "outputs": [
    {
     "data": {
      "text/plain": [
       "0     17.50\n",
       "1     16.79\n",
       "2     28.18\n",
       "3    453.14\n",
       "4    755.01\n",
       "Name: Avg_Mdcr_Alowd_Amt, dtype: float64"
      ]
     },
     "execution_count": 47,
     "metadata": {},
     "output_type": "execute_result"
    }
   ],
   "source": [
    "y.head()"
   ]
  },
  {
   "cell_type": "markdown",
   "id": "9182828b",
   "metadata": {},
   "source": [
    "#### Training and Testing"
   ]
  },
  {
   "cell_type": "markdown",
   "id": "aeb56078",
   "metadata": {},
   "source": [
    "Now let's split the data into a training set and testing set. We will train out model on the training set and then use the test to evaluate the model"
   ]
  },
  {
   "cell_type": "code",
   "execution_count": 48,
   "id": "17d5b87b",
   "metadata": {},
   "outputs": [],
   "source": [
    "from sklearn.model_selection import train_test_split\n",
    "X_train, X_test, y_train, y_test = train_test_split(X, y, test_size = 0.3, train_size=0.7, random_state= 25)"
   ]
  },
  {
   "cell_type": "markdown",
   "id": "fcfdbb30",
   "metadata": {},
   "source": [
    "### Feature scaling"
   ]
  },
  {
   "cell_type": "code",
   "execution_count": 49,
   "id": "c6f3b6bc",
   "metadata": {},
   "outputs": [],
   "source": [
    "from sklearn.preprocessing import StandardScaler\n",
    "from sklearn.pipeline import Pipeline\n",
    "\n",
    "pipeline = Pipeline([\n",
    "    ('std_scaler', StandardScaler())\n",
    "])\n",
    "\n",
    "X_train = pipeline.fit_transform(X_train)\n",
    "X_test = pipeline.fit_transform(X_test)"
   ]
  },
  {
   "cell_type": "code",
   "execution_count": 50,
   "id": "e9ff3ade",
   "metadata": {},
   "outputs": [],
   "source": [
    "X_train = pd.DataFrame(X_train, columns = X.columns)\n",
    "\n",
    "X_test = pd.DataFrame(X_test, columns=X.columns)"
   ]
  },
  {
   "cell_type": "code",
   "execution_count": 51,
   "id": "71a34915",
   "metadata": {},
   "outputs": [
    {
     "data": {
      "text/plain": [
       "((187704, 11), (187704,))"
      ]
     },
     "execution_count": 51,
     "metadata": {},
     "output_type": "execute_result"
    }
   ],
   "source": [
    "X_train.shape, y_train.shape"
   ]
  },
  {
   "cell_type": "code",
   "execution_count": 52,
   "id": "d2bef593",
   "metadata": {},
   "outputs": [
    {
     "data": {
      "text/plain": [
       "((80445, 11), (80445,))"
      ]
     },
     "execution_count": 52,
     "metadata": {},
     "output_type": "execute_result"
    }
   ],
   "source": [
    "X_test.shape, y_test.shape"
   ]
  },
  {
   "cell_type": "markdown",
   "id": "9713eaec",
   "metadata": {},
   "source": [
    "### Model Building"
   ]
  },
  {
   "cell_type": "markdown",
   "id": "06d00888",
   "metadata": {},
   "source": [
    "As the Dependent Variable is \"Continous\", Let us build Regression Models."
   ]
  },
  {
   "cell_type": "markdown",
   "id": "f11df468",
   "metadata": {},
   "source": [
    "#### Linear Regression"
   ]
  },
  {
   "cell_type": "code",
   "execution_count": 53,
   "id": "a95deee1",
   "metadata": {},
   "outputs": [
    {
     "data": {
      "text/html": [
       "<style>#sk-container-id-1 {color: black;background-color: white;}#sk-container-id-1 pre{padding: 0;}#sk-container-id-1 div.sk-toggleable {background-color: white;}#sk-container-id-1 label.sk-toggleable__label {cursor: pointer;display: block;width: 100%;margin-bottom: 0;padding: 0.3em;box-sizing: border-box;text-align: center;}#sk-container-id-1 label.sk-toggleable__label-arrow:before {content: \"▸\";float: left;margin-right: 0.25em;color: #696969;}#sk-container-id-1 label.sk-toggleable__label-arrow:hover:before {color: black;}#sk-container-id-1 div.sk-estimator:hover label.sk-toggleable__label-arrow:before {color: black;}#sk-container-id-1 div.sk-toggleable__content {max-height: 0;max-width: 0;overflow: hidden;text-align: left;background-color: #f0f8ff;}#sk-container-id-1 div.sk-toggleable__content pre {margin: 0.2em;color: black;border-radius: 0.25em;background-color: #f0f8ff;}#sk-container-id-1 input.sk-toggleable__control:checked~div.sk-toggleable__content {max-height: 200px;max-width: 100%;overflow: auto;}#sk-container-id-1 input.sk-toggleable__control:checked~label.sk-toggleable__label-arrow:before {content: \"▾\";}#sk-container-id-1 div.sk-estimator input.sk-toggleable__control:checked~label.sk-toggleable__label {background-color: #d4ebff;}#sk-container-id-1 div.sk-label input.sk-toggleable__control:checked~label.sk-toggleable__label {background-color: #d4ebff;}#sk-container-id-1 input.sk-hidden--visually {border: 0;clip: rect(1px 1px 1px 1px);clip: rect(1px, 1px, 1px, 1px);height: 1px;margin: -1px;overflow: hidden;padding: 0;position: absolute;width: 1px;}#sk-container-id-1 div.sk-estimator {font-family: monospace;background-color: #f0f8ff;border: 1px dotted black;border-radius: 0.25em;box-sizing: border-box;margin-bottom: 0.5em;}#sk-container-id-1 div.sk-estimator:hover {background-color: #d4ebff;}#sk-container-id-1 div.sk-parallel-item::after {content: \"\";width: 100%;border-bottom: 1px solid gray;flex-grow: 1;}#sk-container-id-1 div.sk-label:hover label.sk-toggleable__label {background-color: #d4ebff;}#sk-container-id-1 div.sk-serial::before {content: \"\";position: absolute;border-left: 1px solid gray;box-sizing: border-box;top: 0;bottom: 0;left: 50%;z-index: 0;}#sk-container-id-1 div.sk-serial {display: flex;flex-direction: column;align-items: center;background-color: white;padding-right: 0.2em;padding-left: 0.2em;position: relative;}#sk-container-id-1 div.sk-item {position: relative;z-index: 1;}#sk-container-id-1 div.sk-parallel {display: flex;align-items: stretch;justify-content: center;background-color: white;position: relative;}#sk-container-id-1 div.sk-item::before, #sk-container-id-1 div.sk-parallel-item::before {content: \"\";position: absolute;border-left: 1px solid gray;box-sizing: border-box;top: 0;bottom: 0;left: 50%;z-index: -1;}#sk-container-id-1 div.sk-parallel-item {display: flex;flex-direction: column;z-index: 1;position: relative;background-color: white;}#sk-container-id-1 div.sk-parallel-item:first-child::after {align-self: flex-end;width: 50%;}#sk-container-id-1 div.sk-parallel-item:last-child::after {align-self: flex-start;width: 50%;}#sk-container-id-1 div.sk-parallel-item:only-child::after {width: 0;}#sk-container-id-1 div.sk-dashed-wrapped {border: 1px dashed gray;margin: 0 0.4em 0.5em 0.4em;box-sizing: border-box;padding-bottom: 0.4em;background-color: white;}#sk-container-id-1 div.sk-label label {font-family: monospace;font-weight: bold;display: inline-block;line-height: 1.2em;}#sk-container-id-1 div.sk-label-container {text-align: center;}#sk-container-id-1 div.sk-container {/* jupyter's `normalize.less` sets `[hidden] { display: none; }` but bootstrap.min.css set `[hidden] { display: none !important; }` so we also need the `!important` here to be able to override the default hidden behavior on the sphinx rendered scikit-learn.org. See: https://github.com/scikit-learn/scikit-learn/issues/21755 */display: inline-block !important;position: relative;}#sk-container-id-1 div.sk-text-repr-fallback {display: none;}</style><div id=\"sk-container-id-1\" class=\"sk-top-container\"><div class=\"sk-text-repr-fallback\"><pre>LinearRegression()</pre><b>In a Jupyter environment, please rerun this cell to show the HTML representation or trust the notebook. <br />On GitHub, the HTML representation is unable to render, please try loading this page with nbviewer.org.</b></div><div class=\"sk-container\" hidden><div class=\"sk-item\"><div class=\"sk-estimator sk-toggleable\"><input class=\"sk-toggleable__control sk-hidden--visually\" id=\"sk-estimator-id-1\" type=\"checkbox\" checked><label for=\"sk-estimator-id-1\" class=\"sk-toggleable__label sk-toggleable__label-arrow\">LinearRegression</label><div class=\"sk-toggleable__content\"><pre>LinearRegression()</pre></div></div></div></div></div>"
      ],
      "text/plain": [
       "LinearRegression()"
      ]
     },
     "execution_count": 53,
     "metadata": {},
     "output_type": "execute_result"
    }
   ],
   "source": [
    "from sklearn.linear_model import LinearRegression\n",
    "lr = LinearRegression()\n",
    "lr.fit(X_train,y_train)"
   ]
  },
  {
   "cell_type": "code",
   "execution_count": 54,
   "id": "6b62ec4f",
   "metadata": {},
   "outputs": [
    {
     "data": {
      "text/plain": [
       "array([359.87721887,  64.18219957,  78.51275447, ..., 973.51140952,\n",
       "       -73.80566439,  43.38180218])"
      ]
     },
     "execution_count": 54,
     "metadata": {},
     "output_type": "execute_result"
    }
   ],
   "source": [
    "#making prediction\n",
    "Predict = lr.predict(X_test)\n",
    "Predict"
   ]
  },
  {
   "cell_type": "code",
   "execution_count": 55,
   "id": "50a2735f",
   "metadata": {},
   "outputs": [
    {
     "name": "stdout",
     "output_type": "stream",
     "text": [
      "Model Score Training data 64.3716298352296\n"
     ]
    }
   ],
   "source": [
    "# Train Score\n",
    "training_model_score = lr.score(X_train, y_train)*100\n",
    "print(\"Model Score Training data\",training_model_score)"
   ]
  },
  {
   "cell_type": "code",
   "execution_count": 56,
   "id": "0037e9fd",
   "metadata": {},
   "outputs": [
    {
     "name": "stdout",
     "output_type": "stream",
     "text": [
      "Model score of Testing data 63.21703601618107\n"
     ]
    }
   ],
   "source": [
    "##Test Score\n",
    "testing_model_score = lr.score(X_test,y_test)*100\n",
    "print(\"Model score of Testing data\",testing_model_score)"
   ]
  },
  {
   "cell_type": "code",
   "execution_count": 57,
   "id": "f3a66efa",
   "metadata": {},
   "outputs": [
    {
     "name": "stdout",
     "output_type": "stream",
     "text": [
      "Model score: 63.21703601618107\n"
     ]
    }
   ],
   "source": [
    "from sklearn.metrics import r2_score\n",
    "score = r2_score(y_test,Predict)*100\n",
    "print('Model score:',score)"
   ]
  },
  {
   "cell_type": "code",
   "execution_count": 58,
   "id": "21a7083d",
   "metadata": {},
   "outputs": [
    {
     "name": "stdout",
     "output_type": "stream",
     "text": [
      "Mean Absolute Error (MAE): 145.08928205182667\n",
      "Mean Square Error (MSE): 210918.1917595839\n",
      "Root Mean Square Error (RMSE): 459.2583061410908\n"
     ]
    }
   ],
   "source": [
    "from sklearn import metrics\n",
    "MAE=metrics.mean_absolute_error(y_test,Predict)\n",
    "print(\"Mean Absolute Error (MAE):\",MAE)\n",
    "MSE=metrics.mean_squared_error(y_test,Predict)\n",
    "print(\"Mean Square Error (MSE):\",MSE)\n",
    "RMSE=np.sqrt(metrics.mean_squared_error(y_test, Predict))\n",
    "print(\"Root Mean Square Error (RMSE):\",RMSE)"
   ]
  },
  {
   "cell_type": "code",
   "execution_count": null,
   "id": "47440f37",
   "metadata": {},
   "outputs": [],
   "source": []
  },
  {
   "cell_type": "markdown",
   "id": "6ac3cbe3",
   "metadata": {},
   "source": [
    "#### Lasso Regression"
   ]
  },
  {
   "cell_type": "code",
   "execution_count": 59,
   "id": "951aab87",
   "metadata": {},
   "outputs": [],
   "source": [
    "from sklearn.linear_model import Lasso"
   ]
  },
  {
   "cell_type": "code",
   "execution_count": 60,
   "id": "de7d2cbd",
   "metadata": {},
   "outputs": [
    {
     "name": "stdout",
     "output_type": "stream",
     "text": [
      "Alpha:0.0001\n",
      ",train_score:64.370000,R2:63.220000,MAE:145.089174,MSE:210918.183440,RMSE:459.258297\n",
      "Alpha:0.0010\n",
      ",train_score:64.370000,R2:63.220000,MAE:145.088204,MSE:210918.108641,RMSE:459.258216\n",
      "Alpha:0.0100\n",
      ",train_score:64.370000,R2:63.220000,MAE:145.078535,MSE:210917.368688,RMSE:459.257410\n",
      "Alpha:0.1000\n",
      ",train_score:64.370000,R2:63.220000,MAE:144.984624,MSE:210910.799678,RMSE:459.250258\n",
      "Alpha:0.3000\n",
      ",train_score:64.370000,R2:63.220000,MAE:144.805038,MSE:210900.807157,RMSE:459.239379\n",
      "Alpha:0.5000\n",
      ",train_score:64.370000,R2:63.220000,MAE:144.646479,MSE:210897.329753,RMSE:459.235593\n",
      "Alpha:0.7000\n",
      ",train_score:64.370000,R2:63.220000,MAE:144.491863,MSE:210892.582588,RMSE:459.230424\n",
      "Alpha:0.9000\n",
      ",train_score:64.360000,R2:63.220000,MAE:144.333482,MSE:210885.663493,RMSE:459.222891\n",
      "Alpha:1.0000\n",
      ",train_score:64.360000,R2:63.220000,MAE:144.256281,MSE:210883.079401,RMSE:459.220077\n",
      "Alpha:10.0000\n",
      ",train_score:64.290000,R2:63.240000,MAE:137.190758,MSE:210764.780598,RMSE:459.091255\n",
      "Alpha:100.0000\n",
      ",train_score:61.610000,R2:61.170000,MAE:120.661459,MSE:222630.069392,RMSE:471.836910\n"
     ]
    }
   ],
   "source": [
    "alphas = [0.0001,0.001,0.01,0.1,0.3,0.5,0.7,0.9,1,10,100]\n",
    "for a in alphas:\n",
    "    model= Lasso(alpha=a).fit(X_train,y_train)\n",
    "    train_score = round(model.score(X_train,y_train)*100,2)\n",
    "    score = round(model.score(X_test,y_test)*100,2)\n",
    "    Y_pred = model.predict(X_test)\n",
    "    mae=metrics.mean_absolute_error(y_test,Y_pred)\n",
    "    Mse=metrics.mean_squared_error(y_test,Y_pred)\n",
    "    print(\"Alpha:{0:.4f}\\n,train_score:{1:4f},R2:{2:4f},MAE:{3:4f},MSE:{4:4f},RMSE:{5:4f}\"\n",
    "         .format(a,train_score,score,mae,Mse,np.sqrt(Mse)))"
   ]
  },
  {
   "cell_type": "code",
   "execution_count": 61,
   "id": "bf22100c",
   "metadata": {},
   "outputs": [],
   "source": [
    "lasso = Lasso(alpha=10)\n",
    "lasso.fit(X_train, y_train)\n",
    "y_pred = lasso.predict(X_test)"
   ]
  },
  {
   "cell_type": "code",
   "execution_count": 62,
   "id": "e7f026ff",
   "metadata": {},
   "outputs": [
    {
     "data": {
      "text/plain": [
       "array([373.07476588,  53.26818789,  67.96795931, ..., 960.34830296,\n",
       "       -46.0108529 ,  54.90684724])"
      ]
     },
     "execution_count": 62,
     "metadata": {},
     "output_type": "execute_result"
    }
   ],
   "source": [
    "y_pred"
   ]
  },
  {
   "cell_type": "code",
   "execution_count": 63,
   "id": "1c956319",
   "metadata": {},
   "outputs": [
    {
     "data": {
      "text/plain": [
       "64.28785267577568"
      ]
     },
     "execution_count": 63,
     "metadata": {},
     "output_type": "execute_result"
    }
   ],
   "source": [
    "lasso.score(X_train,y_train)*100"
   ]
  },
  {
   "cell_type": "code",
   "execution_count": 64,
   "id": "0f838277",
   "metadata": {},
   "outputs": [
    {
     "data": {
      "text/plain": [
       "63.24379007280441"
      ]
     },
     "execution_count": 64,
     "metadata": {},
     "output_type": "execute_result"
    }
   ],
   "source": [
    "lasso.score(X_test,y_test)*100"
   ]
  },
  {
   "cell_type": "code",
   "execution_count": 65,
   "id": "e8d04dcf",
   "metadata": {},
   "outputs": [
    {
     "data": {
      "text/plain": [
       "63.24379007280441"
      ]
     },
     "execution_count": 65,
     "metadata": {},
     "output_type": "execute_result"
    }
   ],
   "source": [
    "r2_score(y_test,y_pred)*100"
   ]
  },
  {
   "cell_type": "code",
   "execution_count": 66,
   "id": "c1505dd3",
   "metadata": {},
   "outputs": [
    {
     "name": "stdout",
     "output_type": "stream",
     "text": [
      "Mean Absolute Error (MAE): 137.19075820312682\n",
      "Mean Square Error (MSE): 210764.78059762012\n",
      "Root Mean Square Error (RMSE): 459.0912551961975\n"
     ]
    }
   ],
   "source": [
    "MAE=metrics.mean_absolute_error(y_test,y_pred)\n",
    "print(\"Mean Absolute Error (MAE):\",MAE)\n",
    "MSE=metrics.mean_squared_error(y_test,y_pred)\n",
    "print(\"Mean Square Error (MSE):\",MSE)\n",
    "RMSE=np.sqrt(metrics.mean_squared_error(y_test, y_pred))\n",
    "print(\"Root Mean Square Error (RMSE):\",RMSE)"
   ]
  },
  {
   "cell_type": "markdown",
   "id": "9451efd3",
   "metadata": {},
   "source": [
    "### Ridge Regression"
   ]
  },
  {
   "cell_type": "code",
   "execution_count": 67,
   "id": "9fe0e103",
   "metadata": {},
   "outputs": [],
   "source": [
    "from sklearn.linear_model import Ridge"
   ]
  },
  {
   "cell_type": "code",
   "execution_count": 68,
   "id": "786965b5",
   "metadata": {},
   "outputs": [
    {
     "name": "stdout",
     "output_type": "stream",
     "text": [
      "Alpha:0.0001\n",
      ",train_score:61.610000,R2:63.220000,MAE:145.089282,MSE:210918.191745,RMSE:459.258306\n",
      "Alpha:0.0010\n",
      ",train_score:61.610000,R2:63.220000,MAE:145.089281,MSE:210918.191609,RMSE:459.258306\n",
      "Alpha:0.0100\n",
      ",train_score:61.610000,R2:63.220000,MAE:145.089273,MSE:210918.190253,RMSE:459.258305\n",
      "Alpha:0.1000\n",
      ",train_score:61.610000,R2:63.220000,MAE:145.089192,MSE:210918.176689,RMSE:459.258290\n",
      "Alpha:0.3000\n",
      ",train_score:61.610000,R2:63.220000,MAE:145.089013,MSE:210918.146549,RMSE:459.258257\n",
      "Alpha:0.5000\n",
      ",train_score:61.610000,R2:63.220000,MAE:145.088834,MSE:210918.116410,RMSE:459.258224\n",
      "Alpha:0.7000\n",
      ",train_score:61.610000,R2:63.220000,MAE:145.088654,MSE:210918.086273,RMSE:459.258191\n",
      "Alpha:0.9000\n",
      ",train_score:61.610000,R2:63.220000,MAE:145.088475,MSE:210918.056137,RMSE:459.258158\n",
      "Alpha:1.0000\n",
      ",train_score:61.610000,R2:63.220000,MAE:145.088385,MSE:210918.041070,RMSE:459.258142\n",
      "Alpha:10.0000\n",
      ",train_score:61.610000,R2:63.220000,MAE:145.080316,MSE:210916.686404,RMSE:459.256667\n",
      "Alpha:100.0000\n",
      ",train_score:61.610000,R2:63.220000,MAE:144.999810,MSE:210903.291632,RMSE:459.242084\n"
     ]
    }
   ],
   "source": [
    "alphas = [0.0001,0.001,0.01,0.1,0.3,0.5,0.7,0.9,1,10,100]\n",
    "for a in alphas:\n",
    "    model= Ridge(alpha=a).fit(X_train,y_train)\n",
    "    train_score1 = round(model.score(X_train,y_train)*100,2)\n",
    "    score = round(model.score(X_test,y_test)*100,2)\n",
    "    Y_pred1 = model.predict(X_test)\n",
    "    mae=metrics.mean_absolute_error(y_test,Y_pred1)\n",
    "    Mse=metrics.mean_squared_error(y_test,Y_pred1)\n",
    "    print(\"Alpha:{0:.4f}\\n,train_score:{1:4f},R2:{2:4f},MAE:{3:4f},MSE:{4:4f},RMSE:{5:4f}\"\n",
    "         .format(a,train_score,score,mae,Mse,np.sqrt(Mse)))"
   ]
  },
  {
   "cell_type": "code",
   "execution_count": 69,
   "id": "981c01a3",
   "metadata": {},
   "outputs": [],
   "source": [
    "from sklearn.linear_model import Ridge\n",
    "ridgeR = Ridge(alpha=0.0001)\n",
    "ridgeR.fit(X_train, y_train)\n",
    "y_pred2 = ridgeR.predict(X_test)"
   ]
  },
  {
   "cell_type": "code",
   "execution_count": 70,
   "id": "f0875895",
   "metadata": {},
   "outputs": [
    {
     "data": {
      "text/plain": [
       "64.3716298352296"
      ]
     },
     "execution_count": 70,
     "metadata": {},
     "output_type": "execute_result"
    }
   ],
   "source": [
    "#Training Score\n",
    "ridgeR.score(X_train,y_train)*100"
   ]
  },
  {
   "cell_type": "code",
   "execution_count": 71,
   "id": "492650e7",
   "metadata": {},
   "outputs": [
    {
     "data": {
      "text/plain": [
       "63.21703601880932"
      ]
     },
     "execution_count": 71,
     "metadata": {},
     "output_type": "execute_result"
    }
   ],
   "source": [
    "#Testing score\n",
    "ridgeR.score(X_test,y_test)*100"
   ]
  },
  {
   "cell_type": "code",
   "execution_count": 72,
   "id": "a4c5ed7b",
   "metadata": {},
   "outputs": [
    {
     "data": {
      "text/plain": [
       "63.21703601880932"
      ]
     },
     "execution_count": 72,
     "metadata": {},
     "output_type": "execute_result"
    }
   ],
   "source": [
    "r2_score(y_test,y_pred2)*100"
   ]
  },
  {
   "cell_type": "code",
   "execution_count": 73,
   "id": "e8a69f8d",
   "metadata": {},
   "outputs": [
    {
     "name": "stdout",
     "output_type": "stream",
     "text": [
      "Mean Absolute Error (MAE): 145.08928196213463\n",
      "Mean Square Error (MSE): 210918.1917445132\n",
      "Root Mean Square Error (RMSE): 459.25830612468314\n"
     ]
    }
   ],
   "source": [
    "MAE=metrics.mean_absolute_error(y_test,y_pred2)\n",
    "print(\"Mean Absolute Error (MAE):\",MAE)\n",
    "MSE=metrics.mean_squared_error(y_test,y_pred2)\n",
    "print(\"Mean Square Error (MSE):\",MSE)\n",
    "RMSE=np.sqrt(metrics.mean_squared_error(y_test, y_pred2))\n",
    "print(\"Root Mean Square Error (RMSE):\",RMSE)"
   ]
  },
  {
   "cell_type": "code",
   "execution_count": null,
   "id": "478e60df",
   "metadata": {},
   "outputs": [],
   "source": []
  },
  {
   "cell_type": "markdown",
   "id": "52901ac7",
   "metadata": {},
   "source": [
    "### Elastic Net"
   ]
  },
  {
   "cell_type": "code",
   "execution_count": 74,
   "id": "bccd18f9",
   "metadata": {},
   "outputs": [],
   "source": [
    "from sklearn.linear_model import ElasticNet "
   ]
  },
  {
   "cell_type": "code",
   "execution_count": 75,
   "id": "5362fc31",
   "metadata": {},
   "outputs": [
    {
     "name": "stdout",
     "output_type": "stream",
     "text": [
      "Alpha:0.0001\n",
      ",train_score:61.610000,R2:63.220000,MAE:145.080814,MSE:210916.774713,RMSE:459.256763\n",
      "Alpha:0.0010\n",
      ",train_score:61.610000,R2:63.220000,MAE:145.004766,MSE:210904.158036,RMSE:459.243027\n",
      "Alpha:0.0100\n",
      ",train_score:61.610000,R2:63.240000,MAE:144.260259,MSE:210791.001986,RMSE:459.119812\n",
      "Alpha:0.1000\n",
      ",train_score:61.610000,R2:63.250000,MAE:137.902077,MSE:210721.625824,RMSE:459.044253\n",
      "Alpha:0.3000\n",
      ",train_score:61.610000,R2:62.440000,MAE:128.894300,MSE:215359.432568,RMSE:464.068349\n",
      "Alpha:0.5000\n",
      ",train_score:61.610000,R2:60.980000,MAE:126.253840,MSE:223734.722470,RMSE:473.006049\n",
      "Alpha:0.7000\n",
      ",train_score:61.610000,R2:59.220000,MAE:129.793223,MSE:233836.307452,RMSE:483.566239\n",
      "Alpha:0.9000\n",
      ",train_score:61.610000,R2:57.340000,MAE:135.361302,MSE:244633.674892,RMSE:494.604564\n",
      "Alpha:1.0000\n",
      ",train_score:61.610000,R2:56.380000,MAE:138.295381,MSE:250103.648262,RMSE:500.103638\n",
      "Alpha:10.0000\n",
      ",train_score:61.610000,R2:19.830000,MAE:243.535419,MSE:459690.123119,RMSE:678.004516\n",
      "Alpha:100.0000\n",
      ",train_score:61.610000,R2:2.360000,MAE:291.455207,MSE:559881.460253,RMSE:748.252270\n"
     ]
    }
   ],
   "source": [
    "alphas = [0.0001,0.001,0.01,0.1,0.3,0.5,0.7,0.9,1,10,100]\n",
    "for a in alphas:\n",
    "    model= ElasticNet(alpha=a).fit(X_train,y_train)\n",
    "    train_score1 = round(model.score(X_train,y_train)*100,2)\n",
    "    score = round(model.score(X_test,y_test)*100,2)\n",
    "    Y_pred2 = model.predict(X_test)\n",
    "    mae=metrics.mean_absolute_error(y_test,Y_pred2)\n",
    "    Mse=metrics.mean_squared_error(y_test,Y_pred2)\n",
    "    print(\"Alpha:{0:.4f}\\n,train_score:{1:4f},R2:{2:4f},MAE:{3:4f},MSE:{4:4f},RMSE:{5:4f}\"\n",
    "         .format(a,train_score,score,mae,Mse,np.sqrt(Mse)))"
   ]
  },
  {
   "cell_type": "code",
   "execution_count": 76,
   "id": "2a25b4f1",
   "metadata": {},
   "outputs": [
    {
     "data": {
      "text/html": [
       "<style>#sk-container-id-2 {color: black;background-color: white;}#sk-container-id-2 pre{padding: 0;}#sk-container-id-2 div.sk-toggleable {background-color: white;}#sk-container-id-2 label.sk-toggleable__label {cursor: pointer;display: block;width: 100%;margin-bottom: 0;padding: 0.3em;box-sizing: border-box;text-align: center;}#sk-container-id-2 label.sk-toggleable__label-arrow:before {content: \"▸\";float: left;margin-right: 0.25em;color: #696969;}#sk-container-id-2 label.sk-toggleable__label-arrow:hover:before {color: black;}#sk-container-id-2 div.sk-estimator:hover label.sk-toggleable__label-arrow:before {color: black;}#sk-container-id-2 div.sk-toggleable__content {max-height: 0;max-width: 0;overflow: hidden;text-align: left;background-color: #f0f8ff;}#sk-container-id-2 div.sk-toggleable__content pre {margin: 0.2em;color: black;border-radius: 0.25em;background-color: #f0f8ff;}#sk-container-id-2 input.sk-toggleable__control:checked~div.sk-toggleable__content {max-height: 200px;max-width: 100%;overflow: auto;}#sk-container-id-2 input.sk-toggleable__control:checked~label.sk-toggleable__label-arrow:before {content: \"▾\";}#sk-container-id-2 div.sk-estimator input.sk-toggleable__control:checked~label.sk-toggleable__label {background-color: #d4ebff;}#sk-container-id-2 div.sk-label input.sk-toggleable__control:checked~label.sk-toggleable__label {background-color: #d4ebff;}#sk-container-id-2 input.sk-hidden--visually {border: 0;clip: rect(1px 1px 1px 1px);clip: rect(1px, 1px, 1px, 1px);height: 1px;margin: -1px;overflow: hidden;padding: 0;position: absolute;width: 1px;}#sk-container-id-2 div.sk-estimator {font-family: monospace;background-color: #f0f8ff;border: 1px dotted black;border-radius: 0.25em;box-sizing: border-box;margin-bottom: 0.5em;}#sk-container-id-2 div.sk-estimator:hover {background-color: #d4ebff;}#sk-container-id-2 div.sk-parallel-item::after {content: \"\";width: 100%;border-bottom: 1px solid gray;flex-grow: 1;}#sk-container-id-2 div.sk-label:hover label.sk-toggleable__label {background-color: #d4ebff;}#sk-container-id-2 div.sk-serial::before {content: \"\";position: absolute;border-left: 1px solid gray;box-sizing: border-box;top: 0;bottom: 0;left: 50%;z-index: 0;}#sk-container-id-2 div.sk-serial {display: flex;flex-direction: column;align-items: center;background-color: white;padding-right: 0.2em;padding-left: 0.2em;position: relative;}#sk-container-id-2 div.sk-item {position: relative;z-index: 1;}#sk-container-id-2 div.sk-parallel {display: flex;align-items: stretch;justify-content: center;background-color: white;position: relative;}#sk-container-id-2 div.sk-item::before, #sk-container-id-2 div.sk-parallel-item::before {content: \"\";position: absolute;border-left: 1px solid gray;box-sizing: border-box;top: 0;bottom: 0;left: 50%;z-index: -1;}#sk-container-id-2 div.sk-parallel-item {display: flex;flex-direction: column;z-index: 1;position: relative;background-color: white;}#sk-container-id-2 div.sk-parallel-item:first-child::after {align-self: flex-end;width: 50%;}#sk-container-id-2 div.sk-parallel-item:last-child::after {align-self: flex-start;width: 50%;}#sk-container-id-2 div.sk-parallel-item:only-child::after {width: 0;}#sk-container-id-2 div.sk-dashed-wrapped {border: 1px dashed gray;margin: 0 0.4em 0.5em 0.4em;box-sizing: border-box;padding-bottom: 0.4em;background-color: white;}#sk-container-id-2 div.sk-label label {font-family: monospace;font-weight: bold;display: inline-block;line-height: 1.2em;}#sk-container-id-2 div.sk-label-container {text-align: center;}#sk-container-id-2 div.sk-container {/* jupyter's `normalize.less` sets `[hidden] { display: none; }` but bootstrap.min.css set `[hidden] { display: none !important; }` so we also need the `!important` here to be able to override the default hidden behavior on the sphinx rendered scikit-learn.org. See: https://github.com/scikit-learn/scikit-learn/issues/21755 */display: inline-block !important;position: relative;}#sk-container-id-2 div.sk-text-repr-fallback {display: none;}</style><div id=\"sk-container-id-2\" class=\"sk-top-container\"><div class=\"sk-text-repr-fallback\"><pre>Ridge(alpha=0.1)</pre><b>In a Jupyter environment, please rerun this cell to show the HTML representation or trust the notebook. <br />On GitHub, the HTML representation is unable to render, please try loading this page with nbviewer.org.</b></div><div class=\"sk-container\" hidden><div class=\"sk-item\"><div class=\"sk-estimator sk-toggleable\"><input class=\"sk-toggleable__control sk-hidden--visually\" id=\"sk-estimator-id-2\" type=\"checkbox\" checked><label for=\"sk-estimator-id-2\" class=\"sk-toggleable__label sk-toggleable__label-arrow\">Ridge</label><div class=\"sk-toggleable__content\"><pre>Ridge(alpha=0.1)</pre></div></div></div></div></div>"
      ],
      "text/plain": [
       "Ridge(alpha=0.1)"
      ]
     },
     "execution_count": 76,
     "metadata": {},
     "output_type": "execute_result"
    }
   ],
   "source": [
    "e_net = Ridge(alpha=0.1000)\n",
    "e_net.fit(X_train, y_train)"
   ]
  },
  {
   "cell_type": "code",
   "execution_count": 77,
   "id": "c7526156",
   "metadata": {},
   "outputs": [],
   "source": [
    "en_y_pred = e_net.predict(X_test)"
   ]
  },
  {
   "cell_type": "code",
   "execution_count": 78,
   "id": "642f21e3",
   "metadata": {},
   "outputs": [
    {
     "name": "stdout",
     "output_type": "stream",
     "text": [
      "Train score of ENet Regression: 64.37\n"
     ]
    }
   ],
   "source": [
    "# train score\n",
    "train_score=round(e_net.score(X_train,y_train)*100,2)\n",
    "print('Train score of ENet Regression:',train_score)"
   ]
  },
  {
   "cell_type": "code",
   "execution_count": 79,
   "id": "e56975d7",
   "metadata": {},
   "outputs": [
    {
     "name": "stdout",
     "output_type": "stream",
     "text": [
      "r_2 score of ENet 63.22\n"
     ]
    }
   ],
   "source": [
    "from sklearn.metrics import r2_score\n",
    "score=round(r2_score(y_test,en_y_pred)*100,2)\n",
    "print(\"r_2 score of ENet\",score)"
   ]
  },
  {
   "cell_type": "code",
   "execution_count": 80,
   "id": "4387a7a4",
   "metadata": {},
   "outputs": [
    {
     "name": "stdout",
     "output_type": "stream",
     "text": [
      "Mean Absolute Error (MAE): 145.08919235965797\n",
      "Mean Square Error (MSE): 210918.1766890765\n",
      "Root Mean Square Error (RMSE): 459.25828973364924\n"
     ]
    }
   ],
   "source": [
    "MAE=metrics.mean_absolute_error(y_test,en_y_pred)\n",
    "print(\"Mean Absolute Error (MAE):\",MAE)\n",
    "MSE=metrics.mean_squared_error(y_test,en_y_pred)\n",
    "print(\"Mean Square Error (MSE):\",MSE)\n",
    "RMSE=np.sqrt(metrics.mean_squared_error(y_test, en_y_pred))\n",
    "print(\"Root Mean Square Error (RMSE):\",RMSE)"
   ]
  },
  {
   "cell_type": "code",
   "execution_count": null,
   "id": "93d53a00",
   "metadata": {},
   "outputs": [],
   "source": []
  },
  {
   "cell_type": "markdown",
   "id": "96ffce20",
   "metadata": {},
   "source": [
    "### Ensemble Methods"
   ]
  },
  {
   "cell_type": "markdown",
   "id": "51632916",
   "metadata": {},
   "source": [
    "### Random Forest Regressor"
   ]
  },
  {
   "cell_type": "code",
   "execution_count": 81,
   "id": "3104d245",
   "metadata": {},
   "outputs": [
    {
     "data": {
      "text/html": [
       "<style>#sk-container-id-3 {color: black;background-color: white;}#sk-container-id-3 pre{padding: 0;}#sk-container-id-3 div.sk-toggleable {background-color: white;}#sk-container-id-3 label.sk-toggleable__label {cursor: pointer;display: block;width: 100%;margin-bottom: 0;padding: 0.3em;box-sizing: border-box;text-align: center;}#sk-container-id-3 label.sk-toggleable__label-arrow:before {content: \"▸\";float: left;margin-right: 0.25em;color: #696969;}#sk-container-id-3 label.sk-toggleable__label-arrow:hover:before {color: black;}#sk-container-id-3 div.sk-estimator:hover label.sk-toggleable__label-arrow:before {color: black;}#sk-container-id-3 div.sk-toggleable__content {max-height: 0;max-width: 0;overflow: hidden;text-align: left;background-color: #f0f8ff;}#sk-container-id-3 div.sk-toggleable__content pre {margin: 0.2em;color: black;border-radius: 0.25em;background-color: #f0f8ff;}#sk-container-id-3 input.sk-toggleable__control:checked~div.sk-toggleable__content {max-height: 200px;max-width: 100%;overflow: auto;}#sk-container-id-3 input.sk-toggleable__control:checked~label.sk-toggleable__label-arrow:before {content: \"▾\";}#sk-container-id-3 div.sk-estimator input.sk-toggleable__control:checked~label.sk-toggleable__label {background-color: #d4ebff;}#sk-container-id-3 div.sk-label input.sk-toggleable__control:checked~label.sk-toggleable__label {background-color: #d4ebff;}#sk-container-id-3 input.sk-hidden--visually {border: 0;clip: rect(1px 1px 1px 1px);clip: rect(1px, 1px, 1px, 1px);height: 1px;margin: -1px;overflow: hidden;padding: 0;position: absolute;width: 1px;}#sk-container-id-3 div.sk-estimator {font-family: monospace;background-color: #f0f8ff;border: 1px dotted black;border-radius: 0.25em;box-sizing: border-box;margin-bottom: 0.5em;}#sk-container-id-3 div.sk-estimator:hover {background-color: #d4ebff;}#sk-container-id-3 div.sk-parallel-item::after {content: \"\";width: 100%;border-bottom: 1px solid gray;flex-grow: 1;}#sk-container-id-3 div.sk-label:hover label.sk-toggleable__label {background-color: #d4ebff;}#sk-container-id-3 div.sk-serial::before {content: \"\";position: absolute;border-left: 1px solid gray;box-sizing: border-box;top: 0;bottom: 0;left: 50%;z-index: 0;}#sk-container-id-3 div.sk-serial {display: flex;flex-direction: column;align-items: center;background-color: white;padding-right: 0.2em;padding-left: 0.2em;position: relative;}#sk-container-id-3 div.sk-item {position: relative;z-index: 1;}#sk-container-id-3 div.sk-parallel {display: flex;align-items: stretch;justify-content: center;background-color: white;position: relative;}#sk-container-id-3 div.sk-item::before, #sk-container-id-3 div.sk-parallel-item::before {content: \"\";position: absolute;border-left: 1px solid gray;box-sizing: border-box;top: 0;bottom: 0;left: 50%;z-index: -1;}#sk-container-id-3 div.sk-parallel-item {display: flex;flex-direction: column;z-index: 1;position: relative;background-color: white;}#sk-container-id-3 div.sk-parallel-item:first-child::after {align-self: flex-end;width: 50%;}#sk-container-id-3 div.sk-parallel-item:last-child::after {align-self: flex-start;width: 50%;}#sk-container-id-3 div.sk-parallel-item:only-child::after {width: 0;}#sk-container-id-3 div.sk-dashed-wrapped {border: 1px dashed gray;margin: 0 0.4em 0.5em 0.4em;box-sizing: border-box;padding-bottom: 0.4em;background-color: white;}#sk-container-id-3 div.sk-label label {font-family: monospace;font-weight: bold;display: inline-block;line-height: 1.2em;}#sk-container-id-3 div.sk-label-container {text-align: center;}#sk-container-id-3 div.sk-container {/* jupyter's `normalize.less` sets `[hidden] { display: none; }` but bootstrap.min.css set `[hidden] { display: none !important; }` so we also need the `!important` here to be able to override the default hidden behavior on the sphinx rendered scikit-learn.org. See: https://github.com/scikit-learn/scikit-learn/issues/21755 */display: inline-block !important;position: relative;}#sk-container-id-3 div.sk-text-repr-fallback {display: none;}</style><div id=\"sk-container-id-3\" class=\"sk-top-container\"><div class=\"sk-text-repr-fallback\"><pre>RandomForestRegressor()</pre><b>In a Jupyter environment, please rerun this cell to show the HTML representation or trust the notebook. <br />On GitHub, the HTML representation is unable to render, please try loading this page with nbviewer.org.</b></div><div class=\"sk-container\" hidden><div class=\"sk-item\"><div class=\"sk-estimator sk-toggleable\"><input class=\"sk-toggleable__control sk-hidden--visually\" id=\"sk-estimator-id-3\" type=\"checkbox\" checked><label for=\"sk-estimator-id-3\" class=\"sk-toggleable__label sk-toggleable__label-arrow\">RandomForestRegressor</label><div class=\"sk-toggleable__content\"><pre>RandomForestRegressor()</pre></div></div></div></div></div>"
      ],
      "text/plain": [
       "RandomForestRegressor()"
      ]
     },
     "execution_count": 81,
     "metadata": {},
     "output_type": "execute_result"
    }
   ],
   "source": [
    "from sklearn.ensemble import RandomForestRegressor\n",
    "rf = RandomForestRegressor()\n",
    "rf.fit(X_train,y_train)"
   ]
  },
  {
   "cell_type": "code",
   "execution_count": 82,
   "id": "a27327f5",
   "metadata": {},
   "outputs": [
    {
     "data": {
      "text/plain": [
       "array([258.0928,  33.1943,  35.5382, ..., 730.9   ,  98.8062, 113.9309])"
      ]
     },
     "execution_count": 82,
     "metadata": {},
     "output_type": "execute_result"
    }
   ],
   "source": [
    "#Predicting\n",
    "Predict1 = rf.predict(X_test)\n",
    "Predict1"
   ]
  },
  {
   "cell_type": "code",
   "execution_count": 83,
   "id": "9d846aa3",
   "metadata": {},
   "outputs": [
    {
     "name": "stdout",
     "output_type": "stream",
     "text": [
      "Training score: 98.91066653216825\n"
     ]
    }
   ],
   "source": [
    "#Training Score\n",
    "Train_score = rf.score(X_train,y_train)*100\n",
    "print('Training score:',Train_score)"
   ]
  },
  {
   "cell_type": "code",
   "execution_count": 84,
   "id": "7cb6a7b3",
   "metadata": {},
   "outputs": [
    {
     "name": "stdout",
     "output_type": "stream",
     "text": [
      "Testing_score: 89.50040589714861\n"
     ]
    }
   ],
   "source": [
    "#Testing score\n",
    "Test_score = rf.score(X_test,y_test)*100\n",
    "print('Testing_score:',Test_score)"
   ]
  },
  {
   "cell_type": "code",
   "execution_count": 85,
   "id": "0f405ca9",
   "metadata": {},
   "outputs": [
    {
     "name": "stdout",
     "output_type": "stream",
     "text": [
      "Model Score 89.50040589714861\n"
     ]
    }
   ],
   "source": [
    "Score = r2_score(y_test,Predict1)*100\n",
    "print('Model Score',Score)"
   ]
  },
  {
   "cell_type": "code",
   "execution_count": 86,
   "id": "d991d62b",
   "metadata": {},
   "outputs": [
    {
     "name": "stdout",
     "output_type": "stream",
     "text": [
      "Mean Absolute Error (MAE): 84.14270624028842\n",
      "Mean Squared Error (MSE): 60206.007415748376\n",
      "Root Mean Squared Error (RMSE): 245.36912482166207\n"
     ]
    }
   ],
   "source": [
    "MAE = metrics.mean_absolute_error(y_test,Predict1)\n",
    "print('Mean Absolute Error (MAE):',MAE)\n",
    "mse = metrics.mean_squared_error(y_test,Predict1)\n",
    "print('Mean Squared Error (MSE):',mse)\n",
    "rmse = np.sqrt(metrics.mean_squared_error(y_test,Predict1))\n",
    "print('Root Mean Squared Error (RMSE):',rmse)              "
   ]
  },
  {
   "cell_type": "code",
   "execution_count": 87,
   "id": "7fb3d36b",
   "metadata": {},
   "outputs": [],
   "source": [
    "def get_feature_importance(rf, X_train):\n",
    "  # feature importance\n",
    "  # The importance of a feature is computed as the (normalized) total reduction of the criterion brought by that feature.\n",
    "  for importance, name in sorted(zip(rf.feature_importances_, X_train.columns), reverse=True):\n",
    "    print(name, importance)\n",
    "\n",
    "  # plot\n",
    "  plt.xticks(rotation='vertical')\n",
    "  plt.bar(X_train.columns, rf.feature_importances_, align='edge', width=0.3)\n",
    "  plt.xlabel(\"Features\")\n",
    "  plt.ylabel(\"Importance\")\n",
    "  plt.title(\"Feature Importance for the Random Forest\")\n",
    "  plt.show()"
   ]
  },
  {
   "cell_type": "code",
   "execution_count": 88,
   "id": "93c5f01b",
   "metadata": {},
   "outputs": [
    {
     "name": "stdout",
     "output_type": "stream",
     "text": [
      "Avg_Sbmtd_Chrg 0.7121966790349794\n",
      "HCPCS_Cd 0.11891380250474119\n",
      "HCPCS_Drug_Ind 0.07179412220879007\n",
      "Place_Of_Srvc 0.04733104519905953\n",
      "Rndrng_Prvdr_Geo_Cd 0.010416193392579093\n",
      "Tot_Rndrng_Prvdrs 0.010350552655834509\n",
      "Rndrng_Prvdr_Geo_Desc 0.008900634716215595\n",
      "Tot_Benes 0.007629253760458801\n",
      "Tot_Srvcs 0.006024492158720488\n",
      "Tot_Bene_Day_Srvcs 0.00595761704349122\n",
      "Rndrng_Prvdr_Geo_Lvl 0.00048560732513002874\n"
     ]
    },
    {
     "data": {
      "image/png": "[encoded data removed]",
      "text/plain": [
       "<Figure size 432x288 with 1 Axes>"
      ]
     },
     "metadata": {
      "needs_background": "light"
     },
     "output_type": "display_data"
    }
   ],
   "source": [
    "get_feature_importance(rf, X_train)"
   ]
  },
  {
   "cell_type": "markdown",
   "id": "b4a36561",
   "metadata": {},
   "source": [
    "### Gradient Boosting "
   ]
  },
  {
   "cell_type": "code",
   "execution_count": 89,
   "id": "990c5171",
   "metadata": {},
   "outputs": [],
   "source": [
    "from sklearn.ensemble import GradientBoostingRegressor\n",
    "gb = GradientBoostingRegressor()\n",
    "gbmodel = gb.fit(X_train,y_train)"
   ]
  },
  {
   "cell_type": "code",
   "execution_count": 90,
   "id": "cb842d61",
   "metadata": {},
   "outputs": [
    {
     "data": {
      "text/plain": [
       "array([340.39472993,  35.95880569,  32.04516357, ..., 885.85062303,\n",
       "        87.40894807,  80.61394473])"
      ]
     },
     "execution_count": 90,
     "metadata": {},
     "output_type": "execute_result"
    }
   ],
   "source": [
    "#Predicting\n",
    "Predict2 = gbmodel.predict(X_test)\n",
    "Predict2"
   ]
  },
  {
   "cell_type": "code",
   "execution_count": 91,
   "id": "e3312de9",
   "metadata": {},
   "outputs": [
    {
     "name": "stdout",
     "output_type": "stream",
     "text": [
      "Train score: 90.82941360486569\n"
     ]
    }
   ],
   "source": [
    "#Training score\n",
    "Training_score = gbmodel.score(X_train,y_train)*100\n",
    "print('Train score:',Training_score)"
   ]
  },
  {
   "cell_type": "code",
   "execution_count": 92,
   "id": "a88ca140",
   "metadata": {},
   "outputs": [
    {
     "name": "stdout",
     "output_type": "stream",
     "text": [
      "Test score: 89.94508758407865\n"
     ]
    }
   ],
   "source": [
    "#Testing score\n",
    "Testing_score = gbmodel.score(X_test,y_test)*100\n",
    "print('Test score:',Testing_score)"
   ]
  },
  {
   "cell_type": "code",
   "execution_count": 93,
   "id": "d4ed1101",
   "metadata": {},
   "outputs": [
    {
     "name": "stdout",
     "output_type": "stream",
     "text": [
      "Model score: 89.94508758407865\n"
     ]
    }
   ],
   "source": [
    "Score = r2_score(y_test,Predict2)*100\n",
    "print('Model score:',Score)"
   ]
  },
  {
   "cell_type": "code",
   "execution_count": 94,
   "id": "3fe45f66",
   "metadata": {},
   "outputs": [
    {
     "name": "stdout",
     "output_type": "stream",
     "text": [
      "Mean Absolute Error (MAE): 96.41368059447997\n",
      "Mean Squared Error (MSE): 57656.14608980554\n",
      "Root Mean Squared Error (RMSE): 240.1169425296881\n"
     ]
    }
   ],
   "source": [
    "MAE = metrics.mean_absolute_error(y_test,Predict2)\n",
    "print('Mean Absolute Error (MAE):',MAE)\n",
    "MSE = metrics.mean_squared_error(y_test,Predict2)\n",
    "print('Mean Squared Error (MSE):',MSE)\n",
    "RMSE = np.sqrt(metrics.mean_squared_error(y_test,Predict2))\n",
    "print('Root Mean Squared Error (RMSE):',RMSE)"
   ]
  },
  {
   "cell_type": "markdown",
   "id": "2916c6cc",
   "metadata": {},
   "source": [
    "### XGBoost Regressor"
   ]
  },
  {
   "cell_type": "code",
   "execution_count": 95,
   "id": "94dce281",
   "metadata": {},
   "outputs": [],
   "source": [
    "from xgboost import XGBRegressor \n",
    "xgb = XGBRegressor()"
   ]
  },
  {
   "cell_type": "code",
   "execution_count": 96,
   "id": "c966527b",
   "metadata": {},
   "outputs": [],
   "source": [
    " # Fit the model to the training data\n",
    "xgbmodel = xgb.fit(X_train, y_train)"
   ]
  },
  {
   "cell_type": "code",
   "execution_count": 97,
   "id": "3e60c633",
   "metadata": {},
   "outputs": [
    {
     "data": {
      "text/plain": [
       "array([286.6089  ,  33.0719  ,  38.214314, ..., 811.65985 ,  75.93393 ,\n",
       "        87.12183 ], dtype=float32)"
      ]
     },
     "execution_count": 97,
     "metadata": {},
     "output_type": "execute_result"
    }
   ],
   "source": [
    "#Predicting\n",
    "Pred = xgbmodel.predict(X_test)\n",
    "Pred"
   ]
  },
  {
   "cell_type": "code",
   "execution_count": 98,
   "id": "232a9151",
   "metadata": {},
   "outputs": [
    {
     "name": "stdout",
     "output_type": "stream",
     "text": [
      "Train score: 97.2219037845799\n"
     ]
    }
   ],
   "source": [
    "#Training score\n",
    "Training_score = xgbmodel.score(X_train,y_train)*100\n",
    "print('Train score:',Training_score)"
   ]
  },
  {
   "cell_type": "code",
   "execution_count": 99,
   "id": "59d71a16",
   "metadata": {},
   "outputs": [
    {
     "name": "stdout",
     "output_type": "stream",
     "text": [
      "Test score: 91.01346739071845\n"
     ]
    }
   ],
   "source": [
    "#Testing score\n",
    "Testing_score = xgbmodel.score(X_test,y_test)*100\n",
    "print('Test score:',Testing_score)"
   ]
  },
  {
   "cell_type": "code",
   "execution_count": 100,
   "id": "de9de92f",
   "metadata": {},
   "outputs": [
    {
     "name": "stdout",
     "output_type": "stream",
     "text": [
      "Model score: 91.01346739071845\n"
     ]
    }
   ],
   "source": [
    "Score = r2_score(y_test,Pred)*100\n",
    "print('Model score:',Score)"
   ]
  },
  {
   "cell_type": "code",
   "execution_count": 101,
   "id": "914d0b75",
   "metadata": {},
   "outputs": [
    {
     "name": "stdout",
     "output_type": "stream",
     "text": [
      "Mean Absolute Error (MAE): 84.65546252658939\n",
      "Mean Squared Error (MSE): 51529.92045371901\n",
      "Root Mean Squared Error (RMSE): 227.0020274220453\n"
     ]
    }
   ],
   "source": [
    "MAE = metrics.mean_absolute_error(y_test,Pred)\n",
    "print('Mean Absolute Error (MAE):',MAE)\n",
    "MSE = metrics.mean_squared_error(y_test,Pred)\n",
    "print('Mean Squared Error (MSE):',MSE)\n",
    "RMSE = np.sqrt(metrics.mean_squared_error(y_test,Pred))\n",
    "print('Root Mean Squared Error (RMSE):',RMSE)"
   ]
  },
  {
   "cell_type": "code",
   "execution_count": 102,
   "id": "c79c450f",
   "metadata": {},
   "outputs": [],
   "source": [
    "def get_feature_importance(xgbmodel, X_train):\n",
    "  # feature importance\n",
    "  # The importance of a feature is computed as the (normalized) total reduction of the criterion brought by that feature.\n",
    "  for importance, name in sorted(zip(xgbmodel.feature_importances_, X_train.columns), reverse=True):\n",
    "    print(name, importance)\n",
    "\n",
    "  # plot\n",
    "  plt.xticks(rotation='vertical')\n",
    "  plt.bar(X_train.columns, xgbmodel.feature_importances_, align='edge', width=0.3)\n",
    "  plt.xlabel(\"Features\")\n",
    "  plt.ylabel(\"Importance\")\n",
    "  plt.title(\"Feature Importance for the XGB Classifier\")\n",
    "  plt.show()"
   ]
  },
  {
   "cell_type": "code",
   "execution_count": 103,
   "id": "84e740c8",
   "metadata": {},
   "outputs": [
    {
     "name": "stdout",
     "output_type": "stream",
     "text": [
      "HCPCS_Drug_Ind 0.83366233\n",
      "Avg_Sbmtd_Chrg 0.09231701\n",
      "Place_Of_Srvc 0.04456501\n",
      "HCPCS_Cd 0.009052192\n",
      "Rndrng_Prvdr_Geo_Desc 0.0054314905\n",
      "Rndrng_Prvdr_Geo_Lvl 0.0036720645\n",
      "Rndrng_Prvdr_Geo_Cd 0.002899141\n",
      "Tot_Benes 0.002854844\n",
      "Tot_Bene_Day_Srvcs 0.0024625945\n",
      "Tot_Rndrng_Prvdrs 0.0017039353\n",
      "Tot_Srvcs 0.0013793644\n"
     ]
    },
    {
     "data": {
      "image/png": "[encoded data removed]",
      "text/plain": [
       "<Figure size 432x288 with 1 Axes>"
      ]
     },
     "metadata": {
      "needs_background": "light"
     },
     "output_type": "display_data"
    }
   ],
   "source": [
    "get_feature_importance(xgbmodel, X_train)"
   ]
  },
  {
   "attachments": {
    "Screenshot%202023-05-21%20151306.png": {
     "image/png": "[encoded data removed]"
    }
   },
   "cell_type": "markdown",
   "id": "b075a8bd",
   "metadata": {},
   "source": [
    "![Screenshot%202023-05-21%20151306.png](attachment:Screenshot%202023-05-21%20151306.png)"
   ]
  },
  {
   "cell_type": "code",
   "execution_count": null,
   "id": "899441fd",
   "metadata": {},
   "outputs": [],
   "source": []
  }
 ],
 "metadata": {
  "kernelspec": {
   "display_name": "Python 3 (ipykernel)",
   "language": "python",
   "name": "python3"
  },
  "language_info": {
   "codemirror_mode": {
    "name": "ipython",
    "version": 3
   },
   "file_extension": ".py",
   "mimetype": "text/x-python",
   "name": "python",
   "nbconvert_exporter": "python",
   "pygments_lexer": "ipython3",
   "version": "3.9.7"
  }
 },
 "nbformat": 4,
 "nbformat_minor": 5
}
